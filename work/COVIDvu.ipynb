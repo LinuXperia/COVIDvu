{
 "cells": [
  {
   "cell_type": "markdown",
   "metadata": {},
   "source": [
    "# COVIDvu\n",
    "\n",
    "COVID-19 view various charts."
   ]
  },
  {
   "cell_type": "code",
   "execution_count": null,
   "metadata": {},
   "outputs": [],
   "source": [
    "from utils import autoReloadCode; autoReloadCode()"
   ]
  },
  {
   "cell_type": "markdown",
   "metadata": {},
   "source": [
    "---\n",
    "## Pull latest datasets from the JH CSSE GitHub repository"
   ]
  },
  {
   "cell_type": "code",
   "execution_count": null,
   "metadata": {},
   "outputs": [],
   "source": [
    "%cd COVID-19"
   ]
  },
  {
   "cell_type": "code",
   "execution_count": null,
   "metadata": {},
   "outputs": [],
   "source": [
    "%sx git fetch"
   ]
  },
  {
   "cell_type": "code",
   "execution_count": null,
   "metadata": {},
   "outputs": [],
   "source": [
    "%sx git pull"
   ]
  },
  {
   "cell_type": "code",
   "execution_count": null,
   "metadata": {},
   "outputs": [],
   "source": [
    "%cd .."
   ]
  },
  {
   "cell_type": "markdown",
   "metadata": {},
   "source": [
    "## Group confirmed cases by country"
   ]
  },
  {
   "cell_type": "code",
   "execution_count": null,
   "metadata": {},
   "outputs": [],
   "source": [
    "import os\n",
    "\n",
    "import pandas as pd\n",
    "import numpy as np\n",
    "import utils\n",
    "\n",
    "COVID19_PATH=os.path.join(os.path.join(os.getcwd(), 'COVID-19'), 'csse_covid_19_data/csse_covid_19_time_series')\n",
    "CONFIRMED_FILE=os.path.join(COVID19_PATH, 'time_series_19-covid-Confirmed.csv')\n",
    "\n",
    "CONFIRMED_FILE"
   ]
  },
  {
   "cell_type": "code",
   "execution_count": null,
   "metadata": {},
   "outputs": [],
   "source": [
    "DEATHS_FILE=os.path.join(COVID19_PATH, 'time_series_19-covid-Deaths.csv')\n",
    "DEATHS_FILE"
   ]
  },
  {
   "cell_type": "code",
   "execution_count": null,
   "metadata": {},
   "outputs": [],
   "source": [
    "RECOVERY_FILE=os.path.join(COVID19_PATH, 'time_series_19-covid-Recovered.csv')\n",
    "RECOVERY_FILE"
   ]
  },
  {
   "cell_type": "code",
   "execution_count": null,
   "metadata": {},
   "outputs": [],
   "source": [
    "confirmedCases = pd.read_csv(CONFIRMED_FILE).groupby(['Country/Region']).sum().T\n",
    "\n",
    "confirmedCases.head()"
   ]
  },
  {
   "cell_type": "code",
   "execution_count": null,
   "metadata": {},
   "outputs": [],
   "source": [
    "confirmedDeaths = pd.read_csv(DEATHS_FILE).groupby(['Country/Region']).sum().T\n",
    "confirmedDeaths.head()"
   ]
  },
  {
   "cell_type": "code",
   "execution_count": null,
   "metadata": {},
   "outputs": [],
   "source": [
    "confirmedRecovered = pd.read_csv(RECOVERY_FILE).groupby(['Country/Region']).sum().T\n",
    "\n",
    "confirmedRecovered.head()"
   ]
  },
  {
   "cell_type": "code",
   "execution_count": null,
   "metadata": {},
   "outputs": [],
   "source": [
    "confirmedCasesTrim = confirmedCases.iloc[2:]\n",
    "confirmedCasesTrim.index = pd.to_datetime(confirmedCasesTrim.index)\n",
    "confirmedCasesTrim = utils.computeGlobal(confirmedCasesTrim)\n",
    "confirmedCasesTrim = utils.computeCasesOutside(confirmedCasesTrim, \n",
    "                                               ['Mainland China', '!Global'],\n",
    "                                               '!Outside Mainland China'\n",
    "                                              )"
   ]
  },
  {
   "cell_type": "code",
   "execution_count": null,
   "metadata": {},
   "outputs": [],
   "source": [
    "confirmedDeathsTrim = confirmedDeaths.iloc[2:]\n",
    "confirmedDeathsTrim.index = pd.to_datetime(confirmedDeathsTrim.index)\n",
    "confirmedDeathsTrim = utils.computeGlobal(confirmedDeathsTrim)\n",
    "confirmedDeathsTrim = utils.computeCasesOutside(confirmedDeathsTrim, \n",
    "                                               ['Mainland China', '!Global'],\n",
    "                                               '!Outside Mainland China'\n",
    "                                              )"
   ]
  },
  {
   "cell_type": "code",
   "execution_count": null,
   "metadata": {},
   "outputs": [],
   "source": [
    "confirmedRecoveredTrim = confirmedRecovered.iloc[2:]\n",
    "confirmedRecoveredTrim.index = pd.to_datetime(confirmedRecoveredTrim.index)\n",
    "confirmedRecoveredTrim = utils.computeGlobal(confirmedRecoveredTrim)\n",
    "confirmedRecoveredTrim = utils.computeCasesOutside(confirmedRecoveredTrim, \n",
    "                                               ['Mainland China', '!Global'],\n",
    "                                               '!Outside Mainland China'\n",
    "                                              )"
   ]
  },
  {
   "cell_type": "code",
   "execution_count": null,
   "metadata": {},
   "outputs": [],
   "source": [
    "unknownOutcomes = confirmedCasesTrim - confirmedDeathsTrim - confirmedRecoveredTrim"
   ]
  },
  {
   "cell_type": "code",
   "execution_count": null,
   "metadata": {},
   "outputs": [],
   "source": [
    "mortalityRate = confirmedDeathsTrim/confirmedCasesTrim"
   ]
  },
  {
   "cell_type": "code",
   "execution_count": null,
   "metadata": {},
   "outputs": [],
   "source": [
    "recoveryRate = confirmedRecoveredTrim/confirmedCasesTrim"
   ]
  },
  {
   "cell_type": "code",
   "execution_count": null,
   "metadata": {},
   "outputs": [],
   "source": [
    "knownOutcomeRate = (confirmedCasesTrim - unknownOutcomes)/confirmedCasesTrim"
   ]
  },
  {
   "cell_type": "markdown",
   "metadata": {},
   "source": [
    "## Plot confirmed by date, filtered by country "
   ]
  },
  {
   "cell_type": "code",
   "execution_count": null,
   "metadata": {},
   "outputs": [],
   "source": [
    "import visualize"
   ]
  },
  {
   "cell_type": "code",
   "execution_count": null,
   "metadata": {},
   "outputs": [],
   "source": [
    "from ipywidgets import widgets, interact, fixed, interact_manual\n",
    "\n",
    "countries = list(confirmedCasesTrim.columns)"
   ]
  },
  {
   "cell_type": "code",
   "execution_count": null,
   "metadata": {},
   "outputs": [],
   "source": [
    "from ipywidgets import widgets\n",
    "from ipywidgets import interact\n",
    "from ipywidgets import fixed\n",
    "from ipywidgets import interact_manual\n",
    "from pandas.core.series import Series\n",
    "from pandas.core.indexes.base import Index\n",
    "from numpy import ndarray\n",
    "from typing import Union\n",
    "from plotly.offline import init_notebook_mode\n",
    "import plotly.graph_objs as go\n",
    "import cufflinks as cf\n",
    "import numpy as np\n",
    "import pandas as pd\n",
    "\n",
    "cf.go_offline(connected=False)\n",
    "init_notebook_mode(connected=False)"
   ]
  },
  {
   "cell_type": "code",
   "execution_count": null,
   "metadata": {},
   "outputs": [],
   "source": [
    "colours = ['red', 'blue', 'green', 'orange']\n",
    "def plotMultipleTimeSeriesDropdown(df,\n",
    "                                   dropDownValues,\n",
    "                                   log=False,\n",
    "                                   **kwargs\n",
    "                                   ):\n",
    "    \"\"\"\n",
    "\n",
    "    Parameters\n",
    "    ----------\n",
    "    df: A dataframe where the index are distinct time series to plot, and names are displayed as buttons.\n",
    "        Columns are dates or times.\n",
    "    yLabel: Axis label of the y-axis\n",
    "    titleLeft: The string to the left of the name of the time series in the title\n",
    "    titleRight: The string to the right of the name of the time series in the title\n",
    "    color: Color of the time series\n",
    "\n",
    "    Returns\n",
    "    -------\n",
    "    A plotly plot where buttons are rows of df, and each row corresponds to a time series.\n",
    "    \"\"\"\n",
    "\n",
    "    #     if name_2:\n",
    "    #         name = name_2\n",
    "\n",
    "    ylabel = kwargs.get(\"y_label\", \"Total daily count\")\n",
    "    color = kwargs.get(\"colour\", \"red\")\n",
    "\n",
    "    # filter out name we want\n",
    "    try:\n",
    "        df = df[list(dropDownValues)]\n",
    "    except KeyError:\n",
    "        print(f\"No countries {dropDownValues}. Did you know mitochondria have their own DNA?\")\n",
    "        return\n",
    "\n",
    "    fig = go.Figure(layout={\"yaxis_title\": ylabel,\n",
    "                            \"legend\": {\"itemsizing\": \"constant\"},\n",
    "                            \"hovermode\": \"x\",\n",
    "                            #\"template\": \"plotly_dark\"\n",
    "                            })\n",
    "\n",
    "    for ii, country_name in enumerate(dropDownValues):\n",
    "        df_this_country = df[country_name]\n",
    "\n",
    "        xvals = df_this_country.index\n",
    "        yvals = df_this_country.values\n",
    "\n",
    "        if log:\n",
    "            yvals = np.log10(yvals + 1)\n",
    "            ylabel = \"log 10 \" + ylabel\n",
    "\n",
    "        fig.add_trace(\n",
    "            go.Scatter(x=xvals,\n",
    "                       y=yvals,\n",
    "                       name=country_name,\n",
    "                       line=dict(color=colours[ii]),\n",
    "                       showlegend=True,\n",
    "                       mode=\"lines+markers\",\n",
    "                       marker={\"size\": 5})\n",
    "        )\n",
    "\n",
    "    fig.update_layout(title_text=ylabel)\n",
    "\n",
    "    return fig"
   ]
  },
  {
   "cell_type": "code",
   "execution_count": null,
   "metadata": {},
   "outputs": [],
   "source": [
    "\n",
    "multiCountry = widgets.SelectMultiple(\n",
    "    options=countries,\n",
    "    value=['!Global'],\n",
    "    #rows=10,\n",
    "    description='Country',\n",
    "    disabled=False\n",
    ")\n",
    "\n"
   ]
  },
  {
   "cell_type": "code",
   "execution_count": null,
   "metadata": {},
   "outputs": [],
   "source": [
    "interact(plotMultipleTimeSeriesDropdown, \n",
    "         df=fixed(confirmedCasesTrim), \n",
    "         dropDownValues=multiCountry, \n",
    "         #name_2=widgets.Text(value='', placeholder='<enter name of country>', description='Country:',), \n",
    "         log=widgets.Checkbox(value=False, description='Log scale')\n",
    ");"
   ]
  },
  {
   "cell_type": "code",
   "execution_count": null,
   "metadata": {},
   "outputs": [],
   "source": [
    "import plotly.io as pio \n",
    "list(pio.templates)"
   ]
  },
  {
   "cell_type": "code",
   "execution_count": null,
   "metadata": {},
   "outputs": [],
   "source": [
    "visualize.plotMultipleTimeSeriesDropdown(confirmedCasesTrim,\n",
    "                                         yLabel='Total daily count',\n",
    "                                         color='#690415',\n",
    "                                         titleLeft='COVID-19 confirmed cases in ',\n",
    "                                         )                               "
   ]
  },
  {
   "cell_type": "code",
   "execution_count": null,
   "metadata": {},
   "outputs": [],
   "source": [
    "from pandas.core.series import Series\n",
    "from pandas.core.indexes.base import Index\n",
    "from numpy import ndarray\n",
    "from typing import Union\n",
    "from plotly.offline import init_notebook_mode\n",
    "import plotly.graph_objs as go\n",
    "import cufflinks as cf\n",
    "\n",
    "cf.go_offline(connected=False)\n",
    "init_notebook_mode(connected=False)\n",
    "\n",
    "colours = [\"red\", \"green\", \"blue\", \"yellow\", \"lightgreen\", \"indianred\", \"papayawhip\"]*10\n",
    "\n",
    "def plotMultipleTimeSeriesDropdown(df,\n",
    "                                   name,\n",
    "                                   name_2,\n",
    "                                   log=False,\n",
    "                                    **kwargs\n",
    "                                   ):\n",
    "    \"\"\"\n",
    "\n",
    "    Parameters\n",
    "    ----------\n",
    "    df: A dataframe where the index are distinct time series to plot, and names are displayed as buttons.\n",
    "        Columns are dates or times.\n",
    "    yLabel: Axis label of the y-axis\n",
    "    titleLeft: The string to the left of the name of the time series in the title\n",
    "    titleRight: The string to the right of the name of the time series in the title\n",
    "    color: Color of the time series\n",
    "\n",
    "    Returns\n",
    "    -------\n",
    "    A plotly plot where buttons are rows of df, and each row corresponds to a time series.\n",
    "    \"\"\"\n",
    "        \n",
    "    if name_2:\n",
    "        name = name_2\n",
    "    \n",
    "    ylabel = kwargs.get(\"y_label\", \"Total daily count\")\n",
    "    color = kwargs.get(\"colour\", \"red\")        \n",
    "\n",
    "\n",
    "    # filter out name we want\n",
    "    try:\n",
    "        df = df[list(name)]\n",
    "    except KeyError:\n",
    "        print(f\"No countries {name}. Did you know mitochondria have their own DNA?\")\n",
    "        return\n",
    "    \n",
    "    if len(df) == 0:\n",
    "        print(f\"No data for countries {name}. Did you know mitochondria have their own DNA?\")\n",
    "        return        \n",
    "    \n",
    "    \n",
    "    fig = go.Figure(layout={\"yaxis_title\": ylabel,\n",
    "                            \"legend\": {\"itemsizing\": \"constant\"},\n",
    "                            \"hovermode\": \"x\", \n",
    "                            \"template\": \"plotly_dark\"\n",
    "                            })\n",
    "    \n",
    "    for ii, country_name in enumerate(name):\n",
    "        df_this_country = df[country_name]\n",
    "        \n",
    "        xvals = df_this_country.index\n",
    "        yvals = df_this_country.values\n",
    "        \n",
    "        if log:\n",
    "            yvals = np.log10(yvals + 1)\n",
    "            ylabel = \"log 10 \" + ylabel\n",
    "        \n",
    "        fig.add_trace(\n",
    "            go.Scatter(x=xvals,\n",
    "                       y=yvals,\n",
    "                       name=country_name,\n",
    "                       line=dict(color=colours[ii]), \n",
    "                       showlegend=True, \n",
    "                       mode=\"lines+markers\", \n",
    "                       marker={\"size\": 5})\n",
    "        )\n",
    "\n",
    "    fig.update_layout(title_text=ylabel)\n",
    "\n",
    "    return fig"
   ]
  },
  {
   "cell_type": "code",
   "execution_count": null,
   "metadata": {},
   "outputs": [],
   "source": [
    "visualize.plotMultipleTimeSeriesDropdown(confirmedCasesTrim.diff(axis=1),\n",
    "                                         yLabel='Number of new cases (per day)',\n",
    "                                         color='#690415',\n",
    "                                         titleLeft='COVID-19 confirmed new cases ',\n",
    "                                         titleRight=' (per day)'\n",
    "                                         )\n",
    "                               \n"
   ]
  },
  {
   "cell_type": "code",
   "execution_count": null,
   "metadata": {},
   "outputs": [],
   "source": [
    "visualize.plotMultipleTimeSeriesDropdown(np.log10(confirmedCasesTrim+1),\n",
    "                                         yLabel='Log10 Total daily count',\n",
    "                                         color='#690415',\n",
    "                                         titleLeft='COVID-19 confirmed cases in ',\n",
    "                                         )\n",
    "                               \n"
   ]
  },
  {
   "cell_type": "markdown",
   "metadata": {},
   "source": [
    "## Confirmed deaths"
   ]
  },
  {
   "cell_type": "code",
   "execution_count": null,
   "metadata": {},
   "outputs": [],
   "source": [
    "visualize.plotMultipleTimeSeriesDropdown(confirmedDeathsTrim,\n",
    "                                         yLabel='Total daily count',\n",
    "                                         color='#690415',\n",
    "                                         titleLeft='COVID-19 confirmed deaths in ',\n",
    "                                         )"
   ]
  },
  {
   "cell_type": "code",
   "execution_count": null,
   "metadata": {},
   "outputs": [],
   "source": [
    "visualize.plotMultipleTimeSeriesDropdown(confirmedDeathsTrim.diff(axis=1),\n",
    "                                         yLabel='Number of deaths (per day)',\n",
    "                                         color='#690415',\n",
    "                                         titleLeft='COVID-19 confirmed deaths in ',\n",
    "                                         titleRight=' (per day)'\n",
    "                                         )"
   ]
  },
  {
   "cell_type": "markdown",
   "metadata": {},
   "source": [
    "## Untracked cases"
   ]
  },
  {
   "cell_type": "code",
   "execution_count": null,
   "metadata": {},
   "outputs": [],
   "source": [
    "visualize.plotMultipleTimeSeriesDropdown(unknownOutcomes,\n",
    "                                         yLabel='Total unknown outcomes',\n",
    "                                         color='#690415',\n",
    "                                         titleLeft='COVID-19 unknown outcomes from confirmed cases ',\n",
    "                                         )"
   ]
  },
  {
   "cell_type": "markdown",
   "metadata": {},
   "source": [
    "## Plot mortality rate"
   ]
  },
  {
   "cell_type": "code",
   "execution_count": null,
   "metadata": {},
   "outputs": [],
   "source": [
    "visualize.plotMultipleTimeSeriesDropdown(mortalityRate,\n",
    "                                         yLabel='Mortality rate (deaths/cases)',\n",
    "                                         color='#690415',\n",
    "                                         titleLeft='COVID-19 mortality rate in ',\n",
    "                                         )"
   ]
  },
  {
   "cell_type": "markdown",
   "metadata": {},
   "source": [
    "## Plot recovery rate"
   ]
  },
  {
   "cell_type": "code",
   "execution_count": null,
   "metadata": {},
   "outputs": [],
   "source": [
    "visualize.plotMultipleTimeSeriesDropdown(recoveryRate,\n",
    "                                         yLabel='Recovery rate (recovered/cases)',\n",
    "                                         color='#690415',\n",
    "                                         titleLeft='COVID-19 recovery rate in ',\n",
    "                                         )"
   ]
  },
  {
   "cell_type": "markdown",
   "metadata": {},
   "source": [
    "## Plot reporting rate"
   ]
  },
  {
   "cell_type": "code",
   "execution_count": null,
   "metadata": {},
   "outputs": [],
   "source": [
    "knownOutcomeRate\n",
    "visualize.plotMultipleTimeSeriesDropdown(knownOutcomeRate,\n",
    "                                         yLabel='Known outcome rate',\n",
    "                                         color='#690415',\n",
    "                                         titleLeft='COVID-19 known outcome rate in ',\n",
    "                                         )"
   ]
  },
  {
   "cell_type": "code",
   "execution_count": null,
   "metadata": {},
   "outputs": [],
   "source": [
    "\n",
    "def show_table(data_frame, num):\n",
    "    \n",
    "    num = min(num, len(data_frame))\n",
    "    \n",
    "    return data_frame.iloc[:num]\n",
    "\n",
    "interact(show_table, data_frame=fixed(confirmedCasesTrim), num=widgets.IntSlider(min=5, max=50, value=10, step=2))"
   ]
  },
  {
   "cell_type": "code",
   "execution_count": null,
   "metadata": {},
   "outputs": [],
   "source": []
  }
 ],
 "metadata": {
  "kernelspec": {
   "display_name": "Python 3",
   "language": "python",
   "name": "python3"
  },
  "language_info": {
   "codemirror_mode": {
    "name": "ipython",
    "version": 3
   },
   "file_extension": ".py",
   "mimetype": "text/x-python",
   "name": "python",
   "nbconvert_exporter": "python",
   "pygments_lexer": "ipython3",
   "version": "3.8.1"
  }
 },
 "nbformat": 4,
 "nbformat_minor": 4
}
