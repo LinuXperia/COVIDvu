{
 "cells": [
  {
   "cell_type": "markdown",
   "metadata": {},
   "source": [
    "# COVIDvu\n",
    "\n",
    "COVID-19 view various charts."
   ]
  },
  {
   "cell_type": "markdown",
   "metadata": {},
   "source": [
    "---\n",
    "## Runtime prerequisites"
   ]
  },
  {
   "cell_type": "code",
   "execution_count": null,
   "metadata": {},
   "outputs": [],
   "source": [
    "%%capture --no-stderr requirementsOutput\n",
    "\n",
    "displayRequirementsOutput = False\n",
    "\n",
    "%pip install -r requirements.txt\n",
    "from utils import autoReloadCode; autoReloadCode()"
   ]
  },
  {
   "cell_type": "code",
   "execution_count": null,
   "metadata": {},
   "outputs": [],
   "source": [
    "if displayRequirementsOutput:\n",
    "    requirementsOutput.show()"
   ]
  },
  {
   "cell_type": "markdown",
   "metadata": {},
   "source": [
    "---\n",
    "## Pull latest datasets from the JH CSSE GitHub repository\n",
    "\n",
    "This function is `crontab` ready; it can be called from here, the command line, or as a system job."
   ]
  },
  {
   "cell_type": "code",
   "execution_count": null,
   "metadata": {},
   "outputs": [],
   "source": [
    "%sx ./refreshdata"
   ]
  },
  {
   "cell_type": "markdown",
   "metadata": {},
   "source": [
    "## Group confirmed cases by country"
   ]
  },
  {
   "cell_type": "code",
   "execution_count": null,
   "metadata": {},
   "outputs": [],
   "source": [
    "import os\n",
    "\n",
    "import pandas as pd\n",
    "import numpy as np\n",
    "import utils\n",
    "pd.options.mode.chained_assignment = None"
   ]
  },
  {
   "cell_type": "code",
   "execution_count": null,
   "metadata": {},
   "outputs": [],
   "source": [
    "COVID19_PATH=os.path.join(os.path.join(os.getcwd(), 'COVID-19'), 'csse_covid_19_data/csse_covid_19_time_series')\n",
    "CONFIRMED_FILE=os.path.join(COVID19_PATH, 'time_series_19-covid-Confirmed.csv')\n",
    "\n",
    "CONFIRMED_FILE"
   ]
  },
  {
   "cell_type": "code",
   "execution_count": null,
   "metadata": {},
   "outputs": [],
   "source": [
    "DEATHS_FILE=os.path.join(COVID19_PATH, 'time_series_19-covid-Deaths.csv')\n",
    "DEATHS_FILE"
   ]
  },
  {
   "cell_type": "code",
   "execution_count": null,
   "metadata": {},
   "outputs": [],
   "source": [
    "RECOVERY_FILE=os.path.join(COVID19_PATH, 'time_series_19-covid-Recovered.csv')\n",
    "RECOVERY_FILE"
   ]
  },
  {
   "cell_type": "code",
   "execution_count": null,
   "metadata": {},
   "outputs": [],
   "source": [
    "confirmedCasesAll = pd.read_csv(CONFIRMED_FILE)\n",
    "confirmedCasesUS = confirmedCasesAll[confirmedCasesAll['Country/Region']=='US'].drop(\n",
    "    'Country/Region', axis=1).set_index('Province/State').T\n",
    "confirmedCasesUS.head()"
   ]
  },
  {
   "cell_type": "code",
   "execution_count": null,
   "metadata": {},
   "outputs": [],
   "source": [
    "confirmedCases = pd.read_csv(CONFIRMED_FILE).groupby(['Country/Region']).sum().T\n",
    "confirmedCases.head()"
   ]
  },
  {
   "cell_type": "code",
   "execution_count": null,
   "metadata": {},
   "outputs": [],
   "source": [
    "confirmedDeaths = pd.read_csv(DEATHS_FILE).groupby(['Country/Region']).sum().T\n",
    "confirmedDeaths.head()"
   ]
  },
  {
   "cell_type": "code",
   "execution_count": null,
   "metadata": {},
   "outputs": [],
   "source": [
    "confirmedRecovered = pd.read_csv(RECOVERY_FILE).groupby(['Country/Region']).sum().T\n",
    "\n",
    "confirmedRecovered.head()"
   ]
  },
  {
   "cell_type": "code",
   "execution_count": null,
   "metadata": {},
   "outputs": [],
   "source": [
    "confirmedCasesTrim = confirmedCases.iloc[2:]\n",
    "confirmedCasesTrim.index = pd.to_datetime(confirmedCasesTrim.index)\n",
    "confirmedCasesTrim = utils.computeGlobal(confirmedCasesTrim)\n",
    "confirmedCasesTrim = utils.computeCasesOutside(confirmedCasesTrim, \n",
    "                                               ['Mainland China', '!Global'],\n",
    "                                               '!Outside Mainland China'\n",
    "                                              )"
   ]
  },
  {
   "cell_type": "code",
   "execution_count": null,
   "metadata": {},
   "outputs": [],
   "source": [
    "confirmedCasesUSTrim = confirmedCasesUS.iloc[2:]\n",
    "confirmedCasesUSTrim.index = pd.to_datetime(confirmedCasesUSTrim.index)\n",
    "confirmedCasesUSTrim['!Total US'] = confirmedCasesUSTrim.sum(axis=1)\n",
    "confirmedCasesUSTrim.columns = [c.lstrip() for c in confirmedCasesUSTrim.columns]\n",
    "confirmedCasesUSTrim = confirmedCasesUSTrim.reindex(\n",
    "    sorted(confirmedCasesUSTrim.columns), axis=1)\n"
   ]
  },
  {
   "cell_type": "code",
   "execution_count": null,
   "metadata": {},
   "outputs": [],
   "source": [
    "confirmedDeathsTrim = confirmedDeaths.iloc[2:]\n",
    "confirmedDeathsTrim.index = pd.to_datetime(confirmedDeathsTrim.index)\n",
    "confirmedDeathsTrim = utils.computeGlobal(confirmedDeathsTrim)\n",
    "confirmedDeathsTrim = utils.computeCasesOutside(confirmedDeathsTrim, \n",
    "                                               ['Mainland China', '!Global'],\n",
    "                                               '!Outside Mainland China'\n",
    "                                              )"
   ]
  },
  {
   "cell_type": "code",
   "execution_count": null,
   "metadata": {},
   "outputs": [],
   "source": [
    "confirmedRecoveredTrim = confirmedRecovered.iloc[2:]\n",
    "confirmedRecoveredTrim.index = pd.to_datetime(confirmedRecoveredTrim.index)\n",
    "confirmedRecoveredTrim = utils.computeGlobal(confirmedRecoveredTrim)\n",
    "confirmedRecoveredTrim = utils.computeCasesOutside(confirmedRecoveredTrim, \n",
    "                                               ['Mainland China', '!Global'],\n",
    "                                               '!Outside Mainland China'\n",
    "                                              )"
   ]
  },
  {
   "cell_type": "code",
   "execution_count": null,
   "metadata": {},
   "outputs": [],
   "source": [
    "unknownOutcomes = confirmedCasesTrim - confirmedDeathsTrim - confirmedRecoveredTrim"
   ]
  },
  {
   "cell_type": "code",
   "execution_count": null,
   "metadata": {},
   "outputs": [],
   "source": [
    "mortalityRate = confirmedDeathsTrim/confirmedCasesTrim"
   ]
  },
  {
   "cell_type": "code",
   "execution_count": null,
   "metadata": {},
   "outputs": [],
   "source": [
    "recoveryRate = confirmedRecoveredTrim/confirmedCasesTrim"
   ]
  },
  {
   "cell_type": "code",
   "execution_count": null,
   "metadata": {},
   "outputs": [],
   "source": [
    "knownOutcomeRate = (confirmedCasesTrim - unknownOutcomes)/confirmedCasesTrim"
   ]
  },
  {
   "cell_type": "markdown",
   "metadata": {},
   "source": [
    "# Interactive plots"
   ]
  },
  {
   "cell_type": "code",
   "execution_count": null,
   "metadata": {},
   "outputs": [],
   "source": [
    "import visualize\n",
    "from ipywidgets import widgets\n",
    "from ipywidgets import interact\n",
    "from ipywidgets import fixed"
   ]
  },
  {
   "cell_type": "code",
   "execution_count": null,
   "metadata": {},
   "outputs": [],
   "source": [
    "countries = list(confirmedCasesTrim.columns)\n",
    "multiCountry = widgets.SelectMultiple(\n",
    "    options=countries,\n",
    "    value=['!Global', '!Outside Mainland China'],\n",
    "    description='Country',\n",
    "    disabled=False\n",
    ")\n",
    "log = widgets.Checkbox(value=False, description='Log scale')"
   ]
  },
  {
   "cell_type": "code",
   "execution_count": null,
   "metadata": {},
   "outputs": [],
   "source": [
    "statesUS = list(confirmedCasesUSTrim.columns)\n",
    "multiState = widgets.SelectMultiple(\n",
    "    options=statesUS,\n",
    "    value=['!Total US'],\n",
    "    description='State',\n",
    "    disabled=False\n",
    ")"
   ]
  },
  {
   "cell_type": "markdown",
   "metadata": {},
   "source": [
    "## Confirmed cases"
   ]
  },
  {
   "cell_type": "code",
   "execution_count": null,
   "metadata": {},
   "outputs": [],
   "source": [
    "interact(visualize.plotTimeSeriesInteractive, \n",
    "         df=fixed(confirmedCasesTrim), \n",
    "         selectedColumns=multiCountry, \n",
    "         log=log,\n",
    "         yLabel=fixed('Total confirmed cases'),\n",
    "         title=fixed('COVID-19 total confirmed cases')\n",
    ");"
   ]
  },
  {
   "cell_type": "code",
   "execution_count": null,
   "metadata": {},
   "outputs": [],
   "source": [
    "interact(visualize.plotTimeSeriesInteractive, \n",
    "         df=fixed(confirmedCasesUSTrim), \n",
    "         selectedColumns=multiState, \n",
    "         log=log,\n",
    "         yLabel=fixed('Total confirmed cases'),\n",
    "         title=fixed('COVID-19 total confirmed cases in US states')\n",
    ");"
   ]
  },
  {
   "cell_type": "code",
   "execution_count": null,
   "metadata": {},
   "outputs": [],
   "source": [
    "def viewTopStates(n):\n",
    "    print(confirmedCasesUSTrim.sum(axis=0).sort_values(ascending=False).head(n))"
   ]
  },
  {
   "cell_type": "code",
   "execution_count": null,
   "metadata": {},
   "outputs": [],
   "source": [
    "interact(viewTopStates, n=widgets.IntSlider(min=1, max=len(statesUS), step=1, value=5));"
   ]
  },
  {
   "cell_type": "code",
   "execution_count": null,
   "metadata": {},
   "outputs": [],
   "source": [
    "interact(visualize.plotTimeSeriesInteractive, \n",
    "         df=fixed(confirmedCasesTrim.diff(axis=0)), \n",
    "         selectedColumns=multiCountry, \n",
    "         log=log,\n",
    "         yLabel=fixed('Confirmed cases (per day)'),\n",
    "         title=fixed('COVID-19 confirmed new cases (per day)')\n",
    ");"
   ]
  },
  {
   "cell_type": "markdown",
   "metadata": {},
   "source": [
    "## Confirmed deaths"
   ]
  },
  {
   "cell_type": "code",
   "execution_count": null,
   "metadata": {},
   "outputs": [],
   "source": [
    "interact(visualize.plotTimeSeriesInteractive, \n",
    "         df=fixed(confirmedDeathsTrim), \n",
    "         selectedColumns=multiCountry, \n",
    "         log=log,\n",
    "         yLabel=fixed('Number of deaths'),\n",
    "         title=fixed('COVID-19 total confirmed deaths')\n",
    ");"
   ]
  },
  {
   "cell_type": "markdown",
   "metadata": {},
   "source": [
    "## Untracked cases"
   ]
  },
  {
   "cell_type": "code",
   "execution_count": null,
   "metadata": {},
   "outputs": [],
   "source": [
    "interact(visualize.plotTimeSeriesInteractive, \n",
    "         df=fixed(unknownOutcomes), \n",
    "         selectedColumns=multiCountry, \n",
    "         log=log,\n",
    "         yLabel=fixed('Total unknown outcomes'),\n",
    "         title=fixed('COVID-19 unknown outcomes from confirmed cases')\n",
    ");"
   ]
  },
  {
   "cell_type": "markdown",
   "metadata": {},
   "source": [
    "## Plot mortality rate"
   ]
  },
  {
   "cell_type": "code",
   "execution_count": null,
   "metadata": {},
   "outputs": [],
   "source": [
    "interact(visualize.plotTimeSeriesInteractive, \n",
    "         df=fixed(mortalityRate), \n",
    "         selectedColumns=multiCountry, \n",
    "         log=log,\n",
    "         yLabel=fixed('Mortality rate (deaths/cases)'),\n",
    "         title=fixed('COVID-19 mortality rate')\n",
    ");"
   ]
  },
  {
   "cell_type": "markdown",
   "metadata": {},
   "source": [
    "## Plot recovery rate"
   ]
  },
  {
   "cell_type": "code",
   "execution_count": null,
   "metadata": {},
   "outputs": [],
   "source": [
    "interact(visualize.plotTimeSeriesInteractive, \n",
    "         df=fixed(recoveryRate), \n",
    "         selectedColumns=multiCountry, \n",
    "         log=log,\n",
    "         yLabel=fixed('Recovery rate (recovered/cases)'),\n",
    "         title=fixed('COVID-19 recovery rate')\n",
    ");"
   ]
  },
  {
   "cell_type": "markdown",
   "metadata": {},
   "source": [
    "## Plot reporting rate"
   ]
  },
  {
   "cell_type": "code",
   "execution_count": null,
   "metadata": {},
   "outputs": [],
   "source": [
    "interact(visualize.plotTimeSeriesInteractive, \n",
    "         df=fixed(knownOutcomeRate), \n",
    "         selectedColumns=multiCountry, \n",
    "         log=log,\n",
    "         yLabel=fixed('Known outcome rate'),\n",
    "         title=fixed('COVID-19 known outcome rate')\n",
    ");"
   ]
  },
  {
   "cell_type": "code",
   "execution_count": null,
   "metadata": {},
   "outputs": [],
   "source": []
  }
 ],
 "metadata": {
  "kernelspec": {
   "display_name": "Python 3",
   "language": "python",
   "name": "python3"
  },
  "language_info": {
   "codemirror_mode": {
    "name": "ipython",
    "version": 3
   },
   "file_extension": ".py",
   "mimetype": "text/x-python",
   "name": "python",
   "nbconvert_exporter": "python",
   "pygments_lexer": "ipython3",
   "version": "3.8.1"
  }
 },
 "nbformat": 4,
 "nbformat_minor": 4
}
