{
 "cells": [
  {
   "cell_type": "markdown",
   "metadata": {},
   "source": [
    "# COVIDvu <img src='resources/UN-flag.png' align='right'>\n",
    "\n",
    "COVID-19 view various charts."
   ]
  },
  {
   "cell_type": "markdown",
   "metadata": {},
   "source": [
    "---\n",
    "## Runtime prerequisites"
   ]
  },
  {
   "cell_type": "code",
   "execution_count": null,
   "metadata": {},
   "outputs": [],
   "source": [
    "%%capture --no-stderr requirementsOutput\n",
    "\n",
    "displayRequirementsOutput = False\n",
    "\n",
    "%pip install -r requirements.txt\n",
    "from utils import autoReloadCode; autoReloadCode()"
   ]
  },
  {
   "cell_type": "code",
   "execution_count": null,
   "metadata": {},
   "outputs": [],
   "source": [
    "if displayRequirementsOutput:\n",
    "    requirementsOutput.show()"
   ]
  },
  {
   "cell_type": "markdown",
   "metadata": {},
   "source": [
    "---\n",
    "## Pull latest datasets from the JH CSSE GitHub repository\n",
    "\n",
    "This function is `crontab` ready; it can be called from here, the command line, or as a system job."
   ]
  },
  {
   "cell_type": "code",
   "execution_count": null,
   "metadata": {},
   "outputs": [],
   "source": [
    "%sx ./refreshdata"
   ]
  },
  {
   "cell_type": "markdown",
   "metadata": {},
   "source": [
    "---\n",
    "## Confirmed, deaths, recovered datasets"
   ]
  },
  {
   "cell_type": "code",
   "execution_count": null,
   "metadata": {},
   "outputs": [],
   "source": [
    "import os\n",
    "\n",
    "import numpy as np\n",
    "import pandas as pd\n",
    "\n",
    "import utils\n",
    "import vujson\n",
    "\n",
    "pd.options.mode.chained_assignment = None\n",
    "\n",
    "# Confirm input file definitions:\n",
    "( vujson.JH_CSSE_FILE_CONFIRMED, vujson.JH_CSSE_FILE_DEATHS, vujson.JH_CSSE_FILE_RECOVERED, )"
   ]
  },
  {
   "cell_type": "code",
   "execution_count": null,
   "metadata": {},
   "outputs": [],
   "source": [
    "confirmedCasesTrim     = vujson.allCases()\n",
    "confirmedDeathsTrim    = vujson.allCases(vujson.JH_CSSE_FILE_DEATHS)\n",
    "confirmedRecoveredTrim = vujson.allCases(vujson.JH_CSSE_FILE_RECOVERED)"
   ]
  },
  {
   "cell_type": "code",
   "execution_count": null,
   "metadata": {},
   "outputs": [],
   "source": [
    "unknownOutcomes = confirmedCasesTrim - confirmedDeathsTrim - confirmedRecoveredTrim"
   ]
  },
  {
   "cell_type": "code",
   "execution_count": null,
   "metadata": {},
   "outputs": [],
   "source": [
    "mortalityRate = confirmedDeathsTrim/confirmedCasesTrim"
   ]
  },
  {
   "cell_type": "code",
   "execution_count": null,
   "metadata": {},
   "outputs": [],
   "source": [
    "recoveryRate = confirmedRecoveredTrim/confirmedCasesTrim"
   ]
  },
  {
   "cell_type": "code",
   "execution_count": null,
   "metadata": {},
   "outputs": [],
   "source": [
    "knownOutcomeRate = (confirmedCasesTrim - unknownOutcomes)/confirmedCasesTrim"
   ]
  },
  {
   "cell_type": "markdown",
   "metadata": {},
   "source": [
    "---\n",
    "## Interactive plots"
   ]
  },
  {
   "cell_type": "code",
   "execution_count": null,
   "metadata": {},
   "outputs": [],
   "source": [
    "import visualize\n",
    "from ipywidgets import widgets\n",
    "from ipywidgets import interact\n",
    "from ipywidgets import fixed"
   ]
  },
  {
   "cell_type": "code",
   "execution_count": null,
   "metadata": {},
   "outputs": [],
   "source": [
    "countries = list(confirmedCasesTrim.columns)\n",
    "multiCountry = widgets.SelectMultiple(\n",
    "    options=countries,\n",
    "    value=['!Global', '!Outside Mainland China'],\n",
    "    description='Country',\n",
    "    disabled=False\n",
    ")\n",
    "log = widgets.Checkbox(value=False, description='Log scale')"
   ]
  },
  {
   "cell_type": "markdown",
   "metadata": {},
   "source": [
    "### Confirmed cases"
   ]
  },
  {
   "cell_type": "code",
   "execution_count": null,
   "metadata": {},
   "outputs": [],
   "source": [
    "interact(visualize.plotTimeSeriesInteractive, \n",
    "         df=fixed(confirmedCasesTrim), \n",
    "         selectedColumns=multiCountry, \n",
    "         log=log,\n",
    "         yLabel=fixed('Total confirmed cases'),\n",
    "         title=fixed('COVID-19 total confirmed cases')\n",
    ");"
   ]
  },
  {
   "cell_type": "code",
   "execution_count": null,
   "metadata": {},
   "outputs": [],
   "source": [
    "interact(visualize.plotTimeSeriesInteractive, \n",
    "         df=fixed(confirmedCasesTrim.diff(axis=0)), \n",
    "         selectedColumns=multiCountry, \n",
    "         log=log,\n",
    "         yLabel=fixed('Confirmed cases (per day)'),\n",
    "         title=fixed('COVID-19 confirmed new cases (per day)')\n",
    ");"
   ]
  },
  {
   "cell_type": "markdown",
   "metadata": {},
   "source": [
    "### Confirmed deaths"
   ]
  },
  {
   "cell_type": "code",
   "execution_count": null,
   "metadata": {},
   "outputs": [],
   "source": [
    "interact(visualize.plotTimeSeriesInteractive, \n",
    "         df=fixed(confirmedDeathsTrim), \n",
    "         selectedColumns=multiCountry, \n",
    "         log=log,\n",
    "         yLabel=fixed('Number of deaths'),\n",
    "         title=fixed('COVID-19 total confirmed deaths')\n",
    ");"
   ]
  },
  {
   "cell_type": "markdown",
   "metadata": {},
   "source": [
    "### Untracked cases"
   ]
  },
  {
   "cell_type": "code",
   "execution_count": null,
   "metadata": {},
   "outputs": [],
   "source": [
    "interact(visualize.plotTimeSeriesInteractive, \n",
    "         df=fixed(unknownOutcomes), \n",
    "         selectedColumns=multiCountry, \n",
    "         log=log,\n",
    "         yLabel=fixed('Total unknown outcomes'),\n",
    "         title=fixed('COVID-19 unknown outcomes from confirmed cases')\n",
    ");"
   ]
  },
  {
   "cell_type": "markdown",
   "metadata": {},
   "source": [
    "---\n",
    "## Mortality and recovery rates\n",
    "\n",
    "### Mortality rate"
   ]
  },
  {
   "cell_type": "code",
   "execution_count": null,
   "metadata": {},
   "outputs": [],
   "source": [
    "interact(visualize.plotTimeSeriesInteractive, \n",
    "         df=fixed(mortalityRate), \n",
    "         selectedColumns=multiCountry, \n",
    "         log=log,\n",
    "         yLabel=fixed('Mortality rate (deaths/cases)'),\n",
    "         title=fixed('COVID-19 mortality rate')\n",
    ");"
   ]
  },
  {
   "cell_type": "markdown",
   "metadata": {},
   "source": [
    "### Plot recovery rate"
   ]
  },
  {
   "cell_type": "code",
   "execution_count": null,
   "metadata": {},
   "outputs": [],
   "source": [
    "interact(visualize.plotTimeSeriesInteractive, \n",
    "         df=fixed(recoveryRate), \n",
    "         selectedColumns=multiCountry, \n",
    "         log=log,\n",
    "         yLabel=fixed('Recovery rate (recovered/cases)'),\n",
    "         title=fixed('COVID-19 recovery rate')\n",
    ");"
   ]
  },
  {
   "cell_type": "markdown",
   "metadata": {},
   "source": [
    "### Plot reporting rate"
   ]
  },
  {
   "cell_type": "code",
   "execution_count": null,
   "metadata": {},
   "outputs": [],
   "source": [
    "interact(visualize.plotTimeSeriesInteractive, \n",
    "         df=fixed(knownOutcomeRate), \n",
    "         selectedColumns=multiCountry, \n",
    "         log=log,\n",
    "         yLabel=fixed('Known outcome rate'),\n",
    "         title=fixed('COVID-19 known outcome rate')\n",
    ");"
   ]
  },
  {
   "cell_type": "markdown",
   "metadata": {},
   "source": [
    "---\n",
    "&#169; the COVIDvu Contributors.  All rights reserved."
   ]
  }
 ],
 "metadata": {
  "kernelspec": {
   "display_name": "Python 3",
   "language": "python",
   "name": "python3"
  },
  "language_info": {
   "codemirror_mode": {
    "name": "ipython",
    "version": 3
   },
   "file_extension": ".py",
   "mimetype": "text/x-python",
   "name": "python",
   "nbconvert_exporter": "python",
   "pygments_lexer": "ipython3",
   "version": "3.7.6"
  }
 },
 "nbformat": 4,
 "nbformat_minor": 4
}
