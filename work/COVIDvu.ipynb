{
 "cells": [
  {
   "cell_type": "markdown",
   "metadata": {},
   "source": [
    "# COVIDvu\n",
    "\n",
    "COVID-19 view various charts."
   ]
  },
  {
   "cell_type": "markdown",
   "metadata": {},
   "source": [
    "---\n",
    "## Pull latest datasets from the JH CSSE GitHub repository"
   ]
  },
  {
   "cell_type": "code",
   "execution_count": null,
   "metadata": {},
   "outputs": [],
   "source": [
    "%cd COVID-19"
   ]
  },
  {
   "cell_type": "code",
   "execution_count": null,
   "metadata": {},
   "outputs": [],
   "source": [
    "%sx git fetch"
   ]
  },
  {
   "cell_type": "code",
   "execution_count": null,
   "metadata": {},
   "outputs": [],
   "source": [
    "%sx git pull"
   ]
  },
  {
   "cell_type": "code",
   "execution_count": null,
   "metadata": {},
   "outputs": [],
   "source": [
    "%cd .."
   ]
  },
  {
   "cell_type": "markdown",
   "metadata": {},
   "source": [
    "## Group confirmed cases by country"
   ]
  },
  {
   "cell_type": "code",
   "execution_count": null,
   "metadata": {},
   "outputs": [],
   "source": [
    "import os\n",
    "\n",
    "import pandas as pd\n",
    "import numpy as np\n",
    "import utils\n",
    "\n",
    "COVID19_PATH=os.path.join(os.path.join(os.getcwd(), 'COVID-19'), 'csse_covid_19_data/csse_covid_19_time_series')\n",
    "CONFIRMED_FILE=os.path.join(COVID19_PATH, 'time_series_19-covid-Confirmed.csv')\n",
    "\n",
    "CONFIRMED_FILE"
   ]
  },
  {
   "cell_type": "code",
   "execution_count": null,
   "metadata": {},
   "outputs": [],
   "source": [
    "DEATHS_FILE=os.path.join(COVID19_PATH, 'time_series_19-covid-Deaths.csv')\n",
    "DEATHS_FILE"
   ]
  },
  {
   "cell_type": "code",
   "execution_count": null,
   "metadata": {},
   "outputs": [],
   "source": [
    "RECOVERY_FILE=os.path.join(COVID19_PATH, 'time_series_19-covid-Recovered.csv')\n",
    "RECOVERY_FILE"
   ]
  },
  {
   "cell_type": "code",
   "execution_count": null,
   "metadata": {},
   "outputs": [],
   "source": [
    "confirmedCases = pd.read_csv(CONFIRMED_FILE).groupby(['Country/Region']).sum()\n",
    "\n",
    "confirmedCases.head()"
   ]
  },
  {
   "cell_type": "code",
   "execution_count": null,
   "metadata": {},
   "outputs": [],
   "source": [
    "confirmedDeaths = pd.read_csv(DEATHS_FILE).groupby(['Country/Region']).sum()\n",
    "\n",
    "confirmedDeaths.head()"
   ]
  },
  {
   "cell_type": "code",
   "execution_count": null,
   "metadata": {},
   "outputs": [],
   "source": [
    "confirmedRecovered = pd.read_csv(RECOVERY_FILE).groupby(['Country/Region']).sum()\n",
    "\n",
    "confirmedRecovered.head()"
   ]
  },
  {
   "cell_type": "code",
   "execution_count": null,
   "metadata": {},
   "outputs": [],
   "source": [
    "confirmedCasesTrim = confirmedCases[confirmedCases.columns[2:]]\n",
    "confirmedCasesTrim = utils.computeGlobal(confirmedCasesTrim)\n",
    "confirmedCasesTrim = utils.computeCasesOutside(confirmedCasesTrim, \n",
    "                                               ['Mainland China', '!Global'],\n",
    "                                               '!Outside Mainland China'\n",
    "                                              )"
   ]
  },
  {
   "cell_type": "code",
   "execution_count": null,
   "metadata": {},
   "outputs": [],
   "source": [
    "confirmedDeathsTrim = confirmedDeaths[confirmedDeaths.columns[2:]]\n",
    "confirmedDeathsTrim = utils.computeGlobal(confirmedDeathsTrim)\n",
    "confirmedDeathsTrim = utils.computeCasesOutside(confirmedDeathsTrim, \n",
    "                                               ['Mainland China', '!Global'],\n",
    "                                               '!Outside Mainland China'\n",
    "                                              )"
   ]
  },
  {
   "cell_type": "code",
   "execution_count": null,
   "metadata": {},
   "outputs": [],
   "source": [
    "confirmedRecoveredTrim = confirmedRecovered[confirmedRecovered.columns[2:]]\n",
    "confirmedRecoveredTrim = utils.computeGlobal(confirmedRecoveredTrim)\n",
    "confirmedRecoveredTrim = utils.computeCasesOutside(confirmedRecoveredTrim, \n",
    "                                               ['Mainland China', '!Global'],\n",
    "                                               '!Outside Mainland China'\n",
    "                                              )"
   ]
  },
  {
   "cell_type": "code",
   "execution_count": null,
   "metadata": {},
   "outputs": [],
   "source": [
    "mortalityRate = confirmedDeathsTrim/confirmedCasesTrim"
   ]
  },
  {
   "cell_type": "code",
   "execution_count": null,
   "metadata": {},
   "outputs": [],
   "source": [
    "recoveryRate = confirmedRecoveredTrim/confirmedCasesTrim"
   ]
  },
  {
   "cell_type": "markdown",
   "metadata": {},
   "source": [
    "## Plot confirmed by date, filtered by country "
   ]
  },
  {
   "cell_type": "code",
   "execution_count": null,
   "metadata": {},
   "outputs": [],
   "source": [
    "import visualize"
   ]
  },
  {
   "cell_type": "code",
   "execution_count": null,
   "metadata": {},
   "outputs": [],
   "source": [
    "visualize.plotMultipleTimeSeriesDropdown(confirmedCasesTrim,\n",
    "                                         yLabel='Total daily count',\n",
    "                                         color='#690415',\n",
    "                                         titleLeft='COVID-19 confirmed cases in ',\n",
    "                                         )                               "
   ]
  },
  {
   "cell_type": "code",
   "execution_count": null,
   "metadata": {},
   "outputs": [],
   "source": [
    "visualize.plotMultipleTimeSeriesDropdown(confirmedCasesTrim.diff(axis=1),\n",
    "                                         yLabel='Number of new cases (per day)',\n",
    "                                         color='#690415',\n",
    "                                         titleLeft='COVID-19 confirmed new cases ',\n",
    "                                         titleRight=' (per day)'\n",
    "                                         )\n",
    "                               \n"
   ]
  },
  {
   "cell_type": "code",
   "execution_count": null,
   "metadata": {},
   "outputs": [],
   "source": [
    "visualize.plotMultipleTimeSeriesDropdown(np.log10(confirmedCasesTrim+1),\n",
    "                                         yLabel='Log10 Total daily count',\n",
    "                                         color='#690415',\n",
    "                                         titleLeft='COVID-19 confirmed cases in ',\n",
    "                                         )\n",
    "                               \n"
   ]
  },
  {
   "cell_type": "markdown",
   "metadata": {},
   "source": [
    "## Confirmed deaths"
   ]
  },
  {
   "cell_type": "code",
   "execution_count": null,
   "metadata": {},
   "outputs": [],
   "source": [
    "visualize.plotMultipleTimeSeriesDropdown(confirmedDeathsTrim,\n",
    "                                         yLabel='Total daily count',\n",
    "                                         color='#690415',\n",
    "                                         titleLeft='COVID-19 confirmed deaths in ',\n",
    "                                         )"
   ]
  },
  {
   "cell_type": "code",
   "execution_count": null,
   "metadata": {},
   "outputs": [],
   "source": [
    "visualize.plotMultipleTimeSeriesDropdown(confirmedDeathsTrim.diff(axis=1),\n",
    "                                         yLabel='Number of deaths (per day)',\n",
    "                                         color='#690415',\n",
    "                                         titleLeft='COVID-19 confirmed deaths in ',\n",
    "                                         titleRight=' (per day)'\n",
    "                                         )"
   ]
  },
  {
   "cell_type": "markdown",
   "metadata": {},
   "source": [
    "## Plot mortality rate"
   ]
  },
  {
   "cell_type": "code",
   "execution_count": null,
   "metadata": {},
   "outputs": [],
   "source": [
    "visualize.plotMultipleTimeSeriesDropdown(mortalityRate,\n",
    "                                         yLabel='Mortality rate (deaths/cases)',\n",
    "                                         color='#690415',\n",
    "                                         titleLeft='COVID-19 mortality rate in ',\n",
    "                                         )"
   ]
  },
  {
   "cell_type": "markdown",
   "metadata": {},
   "source": [
    "## Plot recovery rate"
   ]
  },
  {
   "cell_type": "code",
   "execution_count": null,
   "metadata": {},
   "outputs": [],
   "source": [
    "visualize.plotMultipleTimeSeriesDropdown(recoveryRate,\n",
    "                                         yLabel='Recovery rate (recovered/cases)',\n",
    "                                         color='#690415',\n",
    "                                         titleLeft='COVID-19 recovery rate in ',\n",
    "                                         )"
   ]
  },
  {
   "cell_type": "code",
   "execution_count": null,
   "metadata": {},
   "outputs": [],
   "source": []
  }
 ],
 "metadata": {
  "kernelspec": {
   "display_name": "Python 3",
   "language": "python",
   "name": "python3"
  },
  "language_info": {
   "codemirror_mode": {
    "name": "ipython",
    "version": 3
   },
   "file_extension": ".py",
   "mimetype": "text/x-python",
   "name": "python",
   "nbconvert_exporter": "python",
   "pygments_lexer": "ipython3",
   "version": "3.8.1"
  }
 },
 "nbformat": 4,
 "nbformat_minor": 4
}
