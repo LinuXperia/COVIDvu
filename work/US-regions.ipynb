{
 "cells": [
  {
   "cell_type": "markdown",
   "metadata": {},
   "source": [
    "# US regions according to the Census Bureau"
   ]
  },
  {
   "cell_type": "code",
   "execution_count": 18,
   "metadata": {},
   "outputs": [],
   "source": [
    "US_REGIONS = {\n",
    "    'Northeast': sorted([ 'CT', 'ME', 'MA', 'NH', 'RI', 'VT', 'NJ', 'NY', 'PA', ]),\n",
    "    'Midwest': sorted([ 'IL', 'IN', 'MI', 'OH', 'WI', 'IA', 'KS', 'MN', 'MO', 'NE', 'ND', 'SD', ]),\n",
    "    'South': sorted([ 'DE', 'GA', 'FL', 'MD', 'NC', 'SC', 'VA', 'DC', 'WV', 'AL', 'KY', 'MS', 'TN', 'AR', 'LA', 'OK', 'TX', ]),\n",
    "    'West': sorted([ 'AZ', 'CO', 'ID', 'MT', 'NV', 'NM', 'UT', 'WY', 'AK', 'CA', 'HI', 'OR', 'WA', ] ),\n",
    "}"
   ]
  },
  {
   "cell_type": "code",
   "execution_count": 19,
   "metadata": {},
   "outputs": [
    {
     "data": {
      "text/plain": [
       "{'Northeast': ['CT', 'MA', 'ME', 'NH', 'NJ', 'NY', 'PA', 'RI', 'VT'],\n",
       " 'Midwest': ['IA',\n",
       "  'IL',\n",
       "  'IN',\n",
       "  'KS',\n",
       "  'MI',\n",
       "  'MN',\n",
       "  'MO',\n",
       "  'ND',\n",
       "  'NE',\n",
       "  'OH',\n",
       "  'SD',\n",
       "  'WI'],\n",
       " 'South': ['AL',\n",
       "  'AR',\n",
       "  'DC',\n",
       "  'DE',\n",
       "  'FL',\n",
       "  'GA',\n",
       "  'KY',\n",
       "  'LA',\n",
       "  'MD',\n",
       "  'MS',\n",
       "  'NC',\n",
       "  'OK',\n",
       "  'SC',\n",
       "  'TN',\n",
       "  'TX',\n",
       "  'VA',\n",
       "  'WV'],\n",
       " 'West': ['AK',\n",
       "  'AZ',\n",
       "  'CA',\n",
       "  'CO',\n",
       "  'HI',\n",
       "  'ID',\n",
       "  'MT',\n",
       "  'NM',\n",
       "  'NV',\n",
       "  'OR',\n",
       "  'UT',\n",
       "  'WA',\n",
       "  'WY']}"
      ]
     },
     "execution_count": 19,
     "metadata": {},
     "output_type": "execute_result"
    }
   ],
   "source": [
    "US_REGIONS"
   ]
  }
 ],
 "metadata": {
  "kernelspec": {
   "display_name": "Python 3",
   "language": "python",
   "name": "python3"
  },
  "language_info": {
   "codemirror_mode": {
    "name": "ipython",
    "version": 3
   },
   "file_extension": ".py",
   "mimetype": "text/x-python",
   "name": "python",
   "nbconvert_exporter": "python",
   "pygments_lexer": "ipython3",
   "version": "3.7.6"
  }
 },
 "nbformat": 4,
 "nbformat_minor": 4
}
