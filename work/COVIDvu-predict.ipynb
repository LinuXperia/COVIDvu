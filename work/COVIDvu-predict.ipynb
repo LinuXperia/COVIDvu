{
 "cells": [
  {
   "cell_type": "markdown",
   "metadata": {},
   "source": [
    "# COVIDvu <img src='resources/UN-flag.png' align='right'>\n",
    "\n",
    "COVID-19 view various charts."
   ]
  },
  {
   "cell_type": "markdown",
   "metadata": {},
   "source": [
    "---\n",
    "## Runtime prerequisites"
   ]
  },
  {
   "cell_type": "code",
   "execution_count": null,
   "metadata": {},
   "outputs": [],
   "source": [
    "%%capture --no-stderr requirementsOutput\n",
    "\n",
    "displayRequirementsOutput = False\n",
    "\n",
    "%pip install -r requirements.txt\n",
    "from covidvu.utils import autoReloadCode; autoReloadCode()"
   ]
  },
  {
   "cell_type": "code",
   "execution_count": null,
   "metadata": {},
   "outputs": [],
   "source": [
    "if displayRequirementsOutput:\n",
    "    requirementsOutput.show()"
   ]
  },
  {
   "cell_type": "markdown",
   "metadata": {},
   "source": [
    "---\n",
    "## Pull latest datasets from the JH CSSE GitHub repository\n",
    "\n",
    "This function is `crontab` ready; it can be called from here, the command line, or as a system job."
   ]
  },
  {
   "cell_type": "code",
   "execution_count": null,
   "metadata": {},
   "outputs": [],
   "source": [
    "%%bash\n",
    "./refreshdata local"
   ]
  },
  {
   "cell_type": "markdown",
   "metadata": {},
   "source": [
    "---\n",
    "## Predict cases"
   ]
  },
  {
   "cell_type": "code",
   "execution_count": null,
   "metadata": {},
   "outputs": [],
   "source": [
    "COUNTRY_NAME = 'Iran'"
   ]
  },
  {
   "cell_type": "code",
   "execution_count": null,
   "metadata": {},
   "outputs": [],
   "source": [
    "from covidvu.utils import autoReloadCode; autoReloadCode()\n",
    "from covidvu.predict import predictLogisticGrowth\n",
    "import covidvu.visualize as vis\n",
    "import matplotlib.pyplot as plt\n",
    "import pymc3 as pm"
   ]
  },
  {
   "cell_type": "markdown",
   "metadata": {},
   "source": [
    "This may take ~30 mins to complete"
   ]
  },
  {
   "cell_type": "code",
   "execution_count": null,
   "metadata": {},
   "outputs": [],
   "source": [
    "countryTS, predictionsMeanTS, predictionsPercentilesTS, countryName, trace, countryTSClean = predictLogisticGrowth(\n",
    "    countryName=COUNTRY_NAME,\n",
    "    nTune=100,\n",
    "    nSamples=500,\n",
    "    init='map',\n",
    ")"
   ]
  },
  {
   "cell_type": "code",
   "execution_count": null,
   "metadata": {},
   "outputs": [],
   "source": [
    "pm.plots.traceplot(trace);"
   ]
  },
  {
   "cell_type": "code",
   "execution_count": null,
   "metadata": {},
   "outputs": [],
   "source": [
    "nSamples = 500\n",
    "nDaysPredict = len(countryTSClean)\n",
    "\n",
    "tStartPredict = 0\n",
    "tPredict = np.arange(tStartPredict, tStartPredict + len(countryTSClean))\n",
    "predictions = np.zeros((nDaysPredict, nSamples))\n",
    "\n",
    "for i in range(nSamples):\n",
    "    carryingCap = 10 ** trace['logCarryingCapacity'][i]\n",
    "\n",
    "    predictions[:, i] = carryingCap / (\n",
    "            1 + np.exp(-1.0 * trace['growthRate'][i] * (tPredict - trace['midPoint'][i])))"
   ]
  },
  {
   "cell_type": "code",
   "execution_count": null,
   "metadata": {},
   "outputs": [],
   "source": [
    "import pandas as pd\n",
    "def castAsTS(predictions, countryTSClean, nDaysPredict, tStartPredict=-1):\n",
    "    predictionsTS = pd.Series(\n",
    "            index = pd.date_range(\n",
    "                                    start = countryTSClean.index[tStartPredict] + pd.Timedelta(1, 'D'),\n",
    "                                    end   = countryTSClean.index[tStartPredict] + pd.Timedelta(nDaysPredict, 'D')\n",
    "                                 ),\n",
    "            data  = predictions,\n",
    "        )\n",
    "    return predictionsTS"
   ]
  },
  {
   "cell_type": "code",
   "execution_count": null,
   "metadata": {},
   "outputs": [],
   "source": [
    "fig, ax = vis.plot()\n",
    "countryTS.plot(ax=ax, color='black', label='Data')\n",
    "predictionsMeanTS.plot(ax=ax, linestyle='-.', color='black', label='Mean Prediction')\n",
    "countryTSClean.plot(ax=ax, marker='o', color='green', label='Data clean')\n",
    "ax.fill_between(predictionsMeanTS.index,\n",
    "                predictionsPercentilesTS[0][0],\n",
    "                predictionsPercentilesTS[0][1],\n",
    "                color='red',\n",
    "                alpha=0.1, \n",
    "                label = r\"95% CI\");\n",
    "\n",
    "ax.fill_between(predictionsMeanTS.index,\n",
    "                predictionsPercentilesTS[1][0],\n",
    "                predictionsPercentilesTS[1][1],\n",
    "                color='red',\n",
    "                alpha=0.5, \n",
    "                label = r\"50% CI\");\n",
    "\n",
    "for i in range(nSamples):\n",
    "    ts = castAsTS(predictions[:, i], countryTSClean, len(countryTSClean), tStartPredict=tStartPredict)\n",
    "    ts.plot(ax=ax, color='black', alpha=0.01)\n",
    "    \n",
    "    \n",
    "ax.set_ylabel('Total confirmed cases')\n",
    "ax.set_title(COUNTRY_NAME)\n",
    "#ax.legend(loc='upper left')\n",
    "#plt.savefig(f'./figures/{COUNTRY_NAME}_prediction.png', bbox_inches='tight')"
   ]
  },
  {
   "cell_type": "code",
   "execution_count": null,
   "metadata": {},
   "outputs": [],
   "source": [
    "import numpy as np"
   ]
  },
  {
   "cell_type": "code",
   "execution_count": null,
   "metadata": {},
   "outputs": [],
   "source": [
    "fig, ax = vis.plot()\n",
    "for i in range(nSamples):\n",
    "    ts = castAsTS(predictions[:, i], countryTSClean, len(countryTSClean), tStartPredict=tStartPredict)\n",
    "    np.log(ts).plot(ax=ax, color='black', alpha=0.01)\n",
    "np.log(countryTSClean).plot(ax=ax, marker='o', color='green', label='Data clean')\n"
   ]
  },
  {
   "cell_type": "markdown",
   "metadata": {},
   "source": [
    "---\n",
    "&#169; the COVIDvu Contributors.  All rights reserved."
   ]
  }
 ],
 "metadata": {
  "kernelspec": {
   "display_name": "Python 3",
   "language": "python",
   "name": "python3"
  },
  "language_info": {
   "codemirror_mode": {
    "name": "ipython",
    "version": 3
   },
   "file_extension": ".py",
   "mimetype": "text/x-python",
   "name": "python",
   "nbconvert_exporter": "python",
   "pygments_lexer": "ipython3",
   "version": "3.8.1"
  }
 },
 "nbformat": 4,
 "nbformat_minor": 4
}
