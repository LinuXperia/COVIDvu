{
 "cells": [
  {
   "cell_type": "markdown",
   "metadata": {},
   "source": [
    "# COVIDvu <img src='resources/UN-flag.png' align='right'>\n",
    "\n",
    "COVID-19 view various charts."
   ]
  },
  {
   "cell_type": "markdown",
   "metadata": {},
   "source": [
    "---\n",
    "## Runtime prerequisites"
   ]
  },
  {
   "cell_type": "code",
   "execution_count": null,
   "metadata": {},
   "outputs": [],
   "source": [
    "%%capture --no-stderr requirementsOutput\n",
    "\n",
    "displayRequirementsOutput = False\n",
    "\n",
    "%pip install -r requirements.txt\n",
    "from covidvu.utils import autoReloadCode; autoReloadCode()"
   ]
  },
  {
   "cell_type": "code",
   "execution_count": null,
   "metadata": {},
   "outputs": [],
   "source": [
    "if displayRequirementsOutput:\n",
    "    requirementsOutput.show()"
   ]
  },
  {
   "cell_type": "markdown",
   "metadata": {},
   "source": [
    "---\n",
    "## Pull latest datasets from the JH CSSE GitHub repository\n",
    "\n",
    "This function is `crontab` ready; it can be called from here, the command line, or as a system job."
   ]
  },
  {
   "cell_type": "code",
   "execution_count": null,
   "metadata": {},
   "outputs": [],
   "source": [
    "%%bash\n",
    "./refreshdata"
   ]
  },
  {
   "cell_type": "markdown",
   "metadata": {},
   "source": [
    "---\n",
    "## Confirmed cases"
   ]
  },
  {
   "cell_type": "code",
   "execution_count": null,
   "metadata": {},
   "outputs": [],
   "source": [
    "import os\n",
    "\n",
    "import numpy as np\n",
    "import pandas as pd\n",
    "import pymc3 as pm\n",
    "\n",
    "from covidvu import utils\n",
    "from covidvu import vujson\n",
    "import numpy as np\n",
    "import covidvu.visualize as vis\n",
    "\n",
    "pd.options.mode.chained_assignment = None\n"
   ]
  },
  {
   "cell_type": "code",
   "execution_count": null,
   "metadata": {},
   "outputs": [],
   "source": [
    "N_SAMPLES = 1000\n",
    "N_DAYS_PREDICT = 14"
   ]
  },
  {
   "cell_type": "code",
   "execution_count": null,
   "metadata": {},
   "outputs": [],
   "source": [
    "confirmedCases, _, _, _ = vujson._main('confirmed')"
   ]
  },
  {
   "cell_type": "code",
   "execution_count": null,
   "metadata": {},
   "outputs": [],
   "source": [
    "casesData = confirmedCases['United Kingdom']\n",
    "casesData = casesData.iloc[-20:]\n",
    "casesLogData = np.log(casesData + 1).values\n",
    "t = np.arange(casesData.shape[0])"
   ]
  },
  {
   "cell_type": "code",
   "execution_count": null,
   "metadata": {},
   "outputs": [],
   "source": [
    "fig, ax = vis.plot()\n",
    "ax.plot(t, casesData)"
   ]
  },
  {
   "cell_type": "code",
   "execution_count": null,
   "metadata": {},
   "outputs": [],
   "source": [
    "fig, ax = vis.plot()\n",
    "ax.plot(t, casesLogData)"
   ]
  },
  {
   "cell_type": "code",
   "execution_count": null,
   "metadata": {},
   "outputs": [],
   "source": [
    "logRegModel = pm.Model()\n",
    "with logRegModel:\n",
    "    # Priors\n",
    "    logCarryingCapacity = pm.Uniform('logCarryingCapacity', 3,10)\n",
    "    midPoint            = pm.Uniform('midPoint', 0, 1e3)\n",
    "    growthRate          = pm.Uniform('growthRate', 0, 1)\n",
    "    sigma               = pm.Uniform('sigma', 0, 10)\n",
    "    #sigma               = pm.Uniform('sigma', 0, 1e5)\n",
    "    \n",
    "    carryingCap = 10**logCarryingCapacity\n",
    "    casesLin = carryingCap/(1 + np.exp(-1.0 * growthRate * (t - midPoint)))\n",
    "    casesLog = np.log(casesLin + 1)\n",
    "    \n",
    "    \n",
    "    casesObsLog = pm.Normal('casesObsLog', mu=casesLog, sigma=sigma, observed=casesLogData)\n",
    "    "
   ]
  },
  {
   "cell_type": "code",
   "execution_count": null,
   "metadata": {},
   "outputs": [],
   "source": [
    "with logRegModel:\n",
    "    traceLog = pm.sample(N_SAMPLES, chains=1)"
   ]
  },
  {
   "cell_type": "code",
   "execution_count": null,
   "metadata": {},
   "outputs": [],
   "source": [
    "pm.plots.traceplot(traceLog);"
   ]
  },
  {
   "cell_type": "code",
   "execution_count": null,
   "metadata": {},
   "outputs": [],
   "source": [
    "tStartPredict = t[-1]+1\n",
    "tPredict = np.arange(tStartPredict, tStartPredict + N_DAYS_PREDICT)\n",
    "\n",
    "predictions = np.zeros((N_DAYS_PREDICT, N_SAMPLES))\n",
    "\n",
    "for i in range(N_SAMPLES):\n",
    "    carryingCap = 10**traceLog['logCarryingCapacity'][i]\n",
    "\n",
    "    predictions[:, i] = carryingCap/(1 + np.exp(-1.0 * traceLog['growthRate'][i] * (tPredict - traceLog['midPoint'][i])))\n",
    "    "
   ]
  },
  {
   "cell_type": "code",
   "execution_count": null,
   "metadata": {},
   "outputs": [],
   "source": [
    "predictionsLow  = np.percentile(predictions, 2.5, axis=1)\n",
    "predictionsHigh = np.percentile(predictions, 100 - 2.5, axis=1)\n",
    "predictionsMean = predictions.mean(axis=1)"
   ]
  },
  {
   "cell_type": "code",
   "execution_count": null,
   "metadata": {},
   "outputs": [],
   "source": [
    "fig, ax = vis.plot()\n",
    "ax.plot(t, casesData, '-k', label = 'Observed')\n",
    "ax.plot(tPredict, predictionsMean, '-.k', label = 'Posterior mean')\n",
    "ax.fill_between(tPredict,\n",
    "                predictionsLow,\n",
    "                predictionsHigh,\n",
    "                color='red',\n",
    "                alpha=0.5, \n",
    "                label = r\"95\\% BCI\");"
   ]
  },
  {
   "cell_type": "code",
   "execution_count": null,
   "metadata": {},
   "outputs": [],
   "source": [
    "with logRegModel:\n",
    "    traceTest = pm.sample(tune=100, draws=100 , chains=1)"
   ]
  },
  {
   "cell_type": "code",
   "execution_count": null,
   "metadata": {},
   "outputs": [],
   "source": []
  },
  {
   "cell_type": "code",
   "execution_count": null,
   "metadata": {},
   "outputs": [],
   "source": []
  }
 ],
 "metadata": {
  "kernelspec": {
   "display_name": "Python 3",
   "language": "python",
   "name": "python3"
  },
  "language_info": {
   "codemirror_mode": {
    "name": "ipython",
    "version": 3
   },
   "file_extension": ".py",
   "mimetype": "text/x-python",
   "name": "python",
   "nbconvert_exporter": "python",
   "pygments_lexer": "ipython3",
   "version": "3.8.1"
  }
 },
 "nbformat": 4,
 "nbformat_minor": 4
}
