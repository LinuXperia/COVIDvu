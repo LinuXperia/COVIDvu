{
 "cells": [
  {
   "cell_type": "markdown",
   "metadata": {},
   "source": [
    "# COVIDvu <img src='resources/UN-flag.png' align='right'>\n",
    "\n",
    "COVID-19 view various charts."
   ]
  },
  {
   "cell_type": "markdown",
   "metadata": {},
   "source": [
    "---\n",
    "## Runtime prerequisites"
   ]
  },
  {
   "cell_type": "code",
   "execution_count": null,
   "metadata": {},
   "outputs": [],
   "source": [
    "%%capture --no-stderr requirementsOutput\n",
    "\n",
    "displayRequirementsOutput = False\n",
    "\n",
    "%pip install -r requirements.txt\n",
    "from covidvu.utils import autoReloadCode; autoReloadCode()"
   ]
  },
  {
   "cell_type": "code",
   "execution_count": null,
   "metadata": {},
   "outputs": [],
   "source": [
    "if displayRequirementsOutput:\n",
    "    requirementsOutput.show()"
   ]
  },
  {
   "cell_type": "markdown",
   "metadata": {},
   "source": [
    "---\n",
    "## Pull latest datasets from the JH CSSE GitHub repository\n",
    "\n",
    "This function is `crontab` ready; it can be called from here, the command line, or as a system job."
   ]
  },
  {
   "cell_type": "code",
   "execution_count": null,
   "metadata": {},
   "outputs": [],
   "source": [
    "%%bash\n",
    "./refreshdata local"
   ]
  },
  {
   "cell_type": "markdown",
   "metadata": {},
   "source": [
    "---\n",
    "## Predict cases for all countries (requires pre-training)\n",
    "\n",
    "From `./work` please run\n",
    "\n",
    "```\n",
    "python covidvu/predict.py all\n",
    "```\n",
    "\n",
    "before running these cells"
   ]
  },
  {
   "cell_type": "code",
   "execution_count": null,
   "metadata": {},
   "outputs": [],
   "source": [
    "from covidvu.predict import loadAll\n",
    "from covidvu.visualize import plotDataAndPredictionsWithCI\n",
    "from ipywidgets import widgets\n",
    "from ipywidgets import interact\n",
    "from ipywidgets import fixed"
   ]
  },
  {
   "cell_type": "code",
   "execution_count": null,
   "metadata": {},
   "outputs": [],
   "source": [
    "confirmedCasesAll, meanPredictionTSAll, percentilesTSAll = loadAll()"
   ]
  },
  {
   "cell_type": "code",
   "execution_count": null,
   "metadata": {},
   "outputs": [],
   "source": [
    "countryNameAll = meanPredictionTSAll.columns"
   ]
  },
  {
   "cell_type": "code",
   "execution_count": null,
   "metadata": {},
   "outputs": [],
   "source": [
    "multiCountry = widgets.SelectMultiple(\n",
    "    options=countryNameAll,\n",
    "    value=['US', 'Italy', 'United Kingdom'],\n",
    "    description='Country Index',\n",
    "    disabled=False\n",
    ")\n",
    "log = widgets.Checkbox(value=True, description='Log scale')"
   ]
  },
  {
   "cell_type": "code",
   "execution_count": null,
   "metadata": {},
   "outputs": [],
   "source": [
    "interact(plotDataAndPredictionsWithCI,\n",
    "         meanPredictionTSAll=fixed(meanPredictionTSAll),\n",
    "         confirmedCasesAll=fixed(confirmedCasesAll),         \n",
    "         percentilesTSAll=fixed(percentilesTSAll),\n",
    "         cmapName=fixed('jet'),\n",
    "         selectedColumns=multiCountry,         \n",
    "         log=log\n",
    "        );"
   ]
  },
  {
   "cell_type": "markdown",
   "metadata": {},
   "source": [
    "---\n",
    "&#169; the COVIDvu Contributors.  All rights reserved."
   ]
  }
 ],
 "metadata": {
  "kernelspec": {
   "display_name": "Python 3",
   "language": "python",
   "name": "python3"
  },
  "language_info": {
   "codemirror_mode": {
    "name": "ipython",
    "version": 3
   },
   "file_extension": ".py",
   "mimetype": "text/x-python",
   "name": "python",
   "nbconvert_exporter": "python",
   "pygments_lexer": "ipython3",
   "version": "3.8.1"
  }
 },
 "nbformat": 4,
 "nbformat_minor": 4
}
