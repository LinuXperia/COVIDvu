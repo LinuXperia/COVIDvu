{
 "cells": [
  {
   "cell_type": "code",
   "execution_count": null,
   "metadata": {},
   "outputs": [],
   "source": [
    "from covidvu.pipeline.vujson import parseCSSE\n",
    "from covidvu.predict import predictLogisticGrowth\n",
    "from covidvu.predict import buildLogisticModel\n",
    "\n",
    "confirmedCases=parseCSSE('confirmed')['casesUSStates']\n",
    "\n",
    "regionsAll = confirmedCases.columns[confirmedCases.columns.map(lambda c: c[0]!='!')]\n",
    "\n",
    "logRegModel = buildLogisticModel()\n",
    "\n",
    "prediction = predictLogisticGrowth(logRegModel, regionName= 'Alabama', subGroup = 'casesUSStates')                                                   "
   ]
  }
 ],
 "metadata": {
  "kernelspec": {
   "display_name": "Python 3",
   "language": "python",
   "name": "python3"
  },
  "language_info": {
   "codemirror_mode": {
    "name": "ipython",
    "version": 3
   },
   "file_extension": ".py",
   "mimetype": "text/x-python",
   "name": "python",
   "nbconvert_exporter": "python",
   "pygments_lexer": "ipython3",
   "version": "3.8.1"
  }
 },
 "nbformat": 4,
 "nbformat_minor": 4
}
