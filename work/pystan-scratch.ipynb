{
 "cells": [
  {
   "cell_type": "code",
   "execution_count": 1,
   "metadata": {},
   "outputs": [],
   "source": [
    "from covidvu.utils import autoReloadCode; autoReloadCode()\n",
    "from covidvu.predict import PRIOR_GROWTH_RATE\n",
    "from covidvu.predict import PRIOR_LOG_CARRYING_CAPACITY\n",
    "from covidvu.predict import PRIOR_MID_POINT\n",
    "from covidvu.predict import PRIOR_SIGMA\n",
    "from covidvu.predict import buildLogisticModel,predictLogisticGrowth"
   ]
  },
  {
   "cell_type": "code",
   "execution_count": 2,
   "metadata": {},
   "outputs": [],
   "source": [
    "import os\n",
    "TEST_JH_CSSE_PATH = os.path.join(os.getcwd(), 'resources', 'test_COVID-19',)\n",
    "\n",
    "TEST_JH_CSSE_FILE_CONFIRMED             = os.path.join(TEST_JH_CSSE_PATH, 'csse_covid_19_data',\n",
    "                                                       'csse_covid_19_time_series',\n",
    "                                                       'time_series_covid19_confirmed_global.csv')\n",
    "\n",
    "TEST_JH_CSSE_FILE_DEATHS                = os.path.join(TEST_JH_CSSE_PATH, 'csse_covid_19_data',\n",
    "                                                       'csse_covid_19_time_series',\n",
    "                                                       'time_series_covid19_deaths_global.csv')\n",
    "\n",
    "TEST_JH_CSSE_FILE_CONFIRMED_DEPRECATED  = os.path.join(TEST_JH_CSSE_PATH, 'archived_data', 'archived_time_series',\n",
    "                                                       'time_series_19-covid-Confirmed_archived_0325.csv')\n",
    "\n",
    "TEST_JH_CSSE_FILE_DEATHS_DEPRECATED     = os.path.join(TEST_JH_CSSE_PATH, 'archived_data', 'archived_time_series',\n",
    "                                                       'time_series_19-covid-Deaths_archived_0325.csv')\n",
    "\n",
    "\n",
    "TEST_STATE_CODES_PATH       = os.path.join(os.getcwd(), 'stateCodesUS.csv')\n",
    "TEST_SITE_DATA              = os.path.join(os.getcwd(), 'resources', 'test_site_data')\n",
    "TEST_JH_CSSE_REPORT_PATH    = os.path.join(os.getcwd(), 'resources', 'test_COVID-19', 'csse_covid_19_data',\n",
    "                                           'csse_covid_19_daily_reports')\n",
    "\n",
    "TEST_JH_CSSE_FILE_CONFIRMED_SMALL = os.path.join(TEST_JH_CSSE_PATH, 'csse_covid_19_data',\n",
    "                                                       'csse_covid_19_time_series',\n",
    "                                                       'time_series_covid19_confirmed_global_small.csv')\n",
    "TEST_N_SAMPLES = 1000\n",
    "TEST_N_CHAINS = 2"
   ]
  },
  {
   "cell_type": "code",
   "execution_count": 3,
   "metadata": {},
   "outputs": [
    {
     "name": "stderr",
     "output_type": "stream",
     "text": [
      "INFO:pystan:COMPILING THE C++ CODE FOR MODEL anon_model_ca67bd1bd7243f541adcb5afe33c9a43 NOW.\n"
     ]
    }
   ],
   "source": [
    "logRegModel = buildLogisticModel(PRIOR_LOG_CARRYING_CAPACITY,\n",
    "                                 PRIOR_MID_POINT,\n",
    "                                 PRIOR_GROWTH_RATE,\n",
    "                                 PRIOR_SIGMA, \n",
    "                                 )"
   ]
  },
  {
   "cell_type": "code",
   "execution_count": 4,
   "metadata": {},
   "outputs": [],
   "source": [
    "prediction = predictLogisticGrowth(logRegModel,\n",
    "                                   countryName                   = 'US',\n",
    "                                   siteData                      = TEST_SITE_DATA,\n",
    "                                   jhCSSEFileConfirmed           = TEST_JH_CSSE_FILE_CONFIRMED,\n",
    "                                   jhCSSEFileDeaths              = TEST_JH_CSSE_FILE_DEATHS_DEPRECATED,\n",
    "                                   jhCSSEFileConfirmedDeprecated = TEST_JH_CSSE_FILE_CONFIRMED_DEPRECATED,\n",
    "                                   jsCSSEReportPath              = TEST_JH_CSSE_REPORT_PATH,\n",
    "                                   nSamples                      = TEST_N_SAMPLES,\n",
    "                                   nChains                       = TEST_N_CHAINS,\n",
    "                                   )"
   ]
  },
  {
   "cell_type": "code",
   "execution_count": null,
   "metadata": {},
   "outputs": [],
   "source": []
  }
 ],
 "metadata": {
  "kernelspec": {
   "display_name": "Python 3",
   "language": "python",
   "name": "python3"
  },
  "language_info": {
   "codemirror_mode": {
    "name": "ipython",
    "version": 3
   },
   "file_extension": ".py",
   "mimetype": "text/x-python",
   "name": "python",
   "nbconvert_exporter": "python",
   "pygments_lexer": "ipython3",
   "version": "3.8.1"
  }
 },
 "nbformat": 4,
 "nbformat_minor": 4
}
