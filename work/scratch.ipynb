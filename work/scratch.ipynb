{
 "cells": [
  {
   "cell_type": "code",
   "execution_count": null,
   "metadata": {},
   "outputs": [],
   "source": [
    "import pandas as pd\n",
    "from covidvu.utils import autoReloadCode; autoReloadCode()"
   ]
  },
  {
   "cell_type": "code",
   "execution_count": null,
   "metadata": {},
   "outputs": [],
   "source": [
    "from covidvu.pipeline.vujson import JH_CSSE_FILE_CONFIRMED_US, BOATS"
   ]
  },
  {
   "cell_type": "code",
   "execution_count": null,
   "metadata": {},
   "outputs": [],
   "source": [
    "casesUS = pd.read_csv(JH_CSSE_FILE_CONFIRMED_US)\n",
    "casesBoats = casesUS[casesUS['Province_State'].isin(BOATS)]\n",
    "casesUS = casesUS[~casesUS['Province_State'].isin(BOATS)]\n",
    "# casesUS.drop(labels=['UID','code3','FIPS', 'Lat', 'Long_','Combined_Key','iso2', 'iso3', 'Admin2', 'Country_Region'], \n",
    "#              inplace=True, axis=1)\n",
    "# casesUS.set_index('Province_State', inplace=True)\n",
    "# casesUS = casesUS.T\n",
    "# casesUS.index = pd.to_datetime(casesUS.index, format='%m/%d/%Y')\n",
    "# casesUS.sort_index(inplace=True)"
   ]
  },
  {
   "cell_type": "code",
   "execution_count": null,
   "metadata": {},
   "outputs": [],
   "source": [
    "casesBoats"
   ]
  },
  {
   "cell_type": "code",
   "execution_count": null,
   "metadata": {},
   "outputs": [],
   "source": [
    "casesUS"
   ]
  },
  {
   "cell_type": "code",
   "execution_count": null,
   "metadata": {},
   "outputs": [],
   "source": [
    "casesBoats    = casesUS.loc[:, BOATS]\n",
    "casesNotBoats = casesUS.loc[:, ~casesUS.columns.isin(BOATS)]"
   ]
  },
  {
   "cell_type": "code",
   "execution_count": null,
   "metadata": {},
   "outputs": [],
   "source": [
    "for c in casesNotBoats.columns:\n",
    "    print(c)"
   ]
  },
  {
   "cell_type": "code",
   "execution_count": null,
   "metadata": {},
   "outputs": [],
   "source": []
  }
 ],
 "metadata": {
  "kernelspec": {
   "display_name": "Python 3",
   "language": "python",
   "name": "python3"
  },
  "language_info": {
   "codemirror_mode": {
    "name": "ipython",
    "version": 3
   },
   "file_extension": ".py",
   "mimetype": "text/x-python",
   "name": "python",
   "nbconvert_exporter": "python",
   "pygments_lexer": "ipython3",
   "version": "3.8.1"
  }
 },
 "nbformat": 4,
 "nbformat_minor": 4
}
