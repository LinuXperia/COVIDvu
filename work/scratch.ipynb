{
 "cells": [
  {
   "cell_type": "code",
   "execution_count": null,
   "metadata": {},
   "outputs": [],
   "source": [
    "import pandas as pd\n",
    "from covidvu.utils import autoReloadCode; autoReloadCode()"
   ]
  },
  {
   "cell_type": "code",
   "execution_count": null,
   "metadata": {},
   "outputs": [],
   "source": [
    "from covidvu.pipeline.vujson import JH_CSSE_FILE_CONFIRMED_US, BOATS, _resampleByRegionUS"
   ]
  },
  {
   "cell_type": "code",
   "execution_count": null,
   "metadata": {},
   "outputs": [],
   "source": [
    "from covidvu.pipeline.vujson import COUNTY_NAMES_US"
   ]
  },
  {
   "cell_type": "code",
   "execution_count": null,
   "metadata": {},
   "outputs": [],
   "source": [
    "def _getStateCounts(cases):\n",
    "    cases = cases.drop(labels=['UID','code3','FIPS', 'Lat', 'Long_','Combined_Key','iso2', 'iso3', 'Admin2', 'Country_Region'], \n",
    "             axis=1)\n",
    "    cases = cases.set_index('Province_State')\n",
    "    cases = cases.T\n",
    "    cases.index = pd.to_datetime(cases.index, format='%m/%d/%Y')\n",
    "    cases = cases.groupby(axis=1, level=0).sum()\n",
    "    cases = cases.sort_index()\n",
    "    return cases"
   ]
  },
  {
   "cell_type": "code",
   "execution_count": null,
   "metadata": {},
   "outputs": [],
   "source": [
    "def _getCountyCounts(cases):\n",
    "    cases = cases.drop(labels=['UID','code3','FIPS', 'Lat', 'Long_','Combined_Key','iso2', 'iso3','Country_Region'], \n",
    "             axis=1)\n",
    "    cases = cases.set_index(['Admin2','Province_State'])\n",
    "    cases = cases.T\n",
    "    cases.index = pd.to_datetime(cases.index, format='%m/%d/%Y')\n",
    "    cases = cases.sort_index()\n",
    "    return cases"
   ]
  },
  {
   "cell_type": "code",
   "execution_count": null,
   "metadata": {},
   "outputs": [],
   "source": [
    "def _renameCounties(countyName, countyRemapping = COUNTY_NAMES_US):\n",
    "    if countyName in countyRemapping:\n",
    "        return countyRemapping[countyName]\n",
    "    else:\n",
    "        return countyName"
   ]
  },
  {
   "cell_type": "code",
   "execution_count": null,
   "metadata": {},
   "outputs": [],
   "source": [
    "casesUS = pd.read_csv(JH_CSSE_FILE_CONFIRMED_US)\n",
    "casesBoats = casesUS[casesUS['Province_State'].isin(BOATS)]\n",
    "casesNoBoats = casesUS[~casesUS['Province_State'].isin(BOATS)]\n",
    "casesBoats = _getStateCounts(casesBoats)\n",
    "casesUSStates = _getStateCounts(casesNoBoats.copy())\n",
    "casesUSStates['!Total US'] = casesUSStates.sum(axis=1)\n",
    "casesUSStates = casesUSStates.reindex(sorted(casesUSStates.columns), axis=1)\n",
    "\n",
    "casesUSCounties = _getCountyCounts(casesNoBoats.copy())\n",
    "casesUSRegions = _resampleByRegionUS(casesUSStates.copy())"
   ]
  },
  {
   "cell_type": "code",
   "execution_count": null,
   "metadata": {},
   "outputs": [],
   "source": [
    "\n",
    "casesUSCounties.index = casesUSCounties.index.map(lambda s: s.strftime('%Y-%m-%d'))\n",
    "#casesUSCounties.to_dict()"
   ]
  },
  {
   "cell_type": "code",
   "execution_count": null,
   "metadata": {},
   "outputs": [],
   "source": [
    "from covidvu.pipeline.vujson import dumpJSON"
   ]
  },
  {
   "cell_type": "code",
   "execution_count": null,
   "metadata": {},
   "outputs": [],
   "source": [
    "def castMultiIndexToDict(df):\n",
    "    return df.groupby(level=0).apply(lambda df: df.xs(df.name).to_dict()).to_dict()"
   ]
  },
  {
   "cell_type": "code",
   "execution_count": null,
   "metadata": {},
   "outputs": [],
   "source": [
    "casesUSCounties.head()"
   ]
  },
  {
   "cell_type": "code",
   "execution_count": null,
   "metadata": {},
   "outputs": [],
   "source": [
    "import numpy as np"
   ]
  },
  {
   "cell_type": "code",
   "execution_count": null,
   "metadata": {},
   "outputs": [],
   "source": [
    "result = {}\n",
    "for n, ts in casesUSCounties.iteritems():\n",
    "    countyName, stateName = n\n",
    "    if isinstance(countyName, float):\n",
    "        if np.isnan(countyName):\n",
    "            continue\n",
    "    result[countyName] = {stateName: ts.to_dict()}\n",
    "    "
   ]
  },
  {
   "cell_type": "code",
   "execution_count": null,
   "metadata": {},
   "outputs": [],
   "source": [
    "result"
   ]
  },
  {
   "cell_type": "code",
   "execution_count": null,
   "metadata": {},
   "outputs": [],
   "source": [
    "result"
   ]
  },
  {
   "cell_type": "code",
   "execution_count": null,
   "metadata": {},
   "outputs": [],
   "source": [
    "dumpJSON(result, 'test.json')"
   ]
  },
  {
   "cell_type": "code",
   "execution_count": null,
   "metadata": {},
   "outputs": [],
   "source": []
  }
 ],
 "metadata": {
  "kernelspec": {
   "display_name": "Python 3",
   "language": "python",
   "name": "python3"
  },
  "language_info": {
   "codemirror_mode": {
    "name": "ipython",
    "version": 3
   },
   "file_extension": ".py",
   "mimetype": "text/x-python",
   "name": "python",
   "nbconvert_exporter": "python",
   "pygments_lexer": "ipython3",
   "version": "3.8.1"
  }
 },
 "nbformat": 4,
 "nbformat_minor": 4
}
