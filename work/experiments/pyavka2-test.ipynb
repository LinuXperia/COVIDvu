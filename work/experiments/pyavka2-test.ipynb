{
 "cells": [
  {
   "cell_type": "code",
   "execution_count": null,
   "metadata": {},
   "outputs": [],
   "source": [
    "from bs4 import BeautifulSoup"
   ]
  },
  {
   "cell_type": "code",
   "execution_count": null,
   "metadata": {},
   "outputs": [],
   "source": [
    "import csv"
   ]
  },
  {
   "cell_type": "code",
   "execution_count": null,
   "metadata": {},
   "outputs": [],
   "source": [
    "source = BeautifulSoup(open('../site-data/table-00.html').read(), 'html.parser')"
   ]
  },
  {
   "cell_type": "code",
   "execution_count": null,
   "metadata": {},
   "outputs": [],
   "source": [
    "table  = source.find('table')"
   ]
  },
  {
   "cell_type": "code",
   "execution_count": null,
   "metadata": {},
   "outputs": [],
   "source": [
    "COVIDVU_HEADERS = {\n",
    "    'Country,Other': 'WORLD',\n",
    "    'TotalCases': 'Cases',\n",
    "    'NewCases': 'New cases',\n",
    "    'TotalDeaths': 'Deaths',\n",
    "    'NewDeaths': 'New deaths',\n",
    "}"
   ]
  },
  {
   "cell_type": "code",
   "execution_count": null,
   "metadata": {},
   "outputs": [],
   "source": [
    "COVIDVU_COLUMNS = {\n",
    "    'Total:': 'Total',\n",
    "    'USA': 'United States',\n",
    "    'S. Korea': 'South Korea',\n",
    "    'Bosnia and Herzegovina', 'Bosnia',\n",
    "    'CAR': 'Central African Republic',\n",
    "    'Congo': 'Congo Republic',\n",
    "    'Czechia': 'Czech Republic',\n",
    "    'DRC': 'DR Congo',\n",
    "    'Macao': 'Macau',\n",
    "    'Turks and Caicos', 'Turks and Caicos Islands',\n",
    "    'UAE', 'United Arab Emirates',\n",
    "    'UK', 'United Kingdom',\n",
    "    \n",
    "}"
   ]
  },
  {
   "cell_type": "code",
   "execution_count": null,
   "metadata": {},
   "outputs": [],
   "source": [
    "header = list()\n",
    "for tableHeader in table.find_all('th'):\n",
    "    headerText = COVIDVU_HEADERS.get(tableHeader.text, '')\n",
    "    if len(headerText):\n",
    "        header.append(headerText)"
   ]
  },
  {
   "cell_type": "code",
   "execution_count": null,
   "metadata": {},
   "outputs": [],
   "source": [
    "header"
   ]
  },
  {
   "cell_type": "code",
   "execution_count": null,
   "metadata": {},
   "outputs": [],
   "source": [
    "rows = list()\n",
    "rows.append(header)\n",
    "for tableRow in table.find_all('tr'):\n",
    "    row = list()\n",
    "    columnsCount = 0\n",
    "    for column in tableRow.find_all('td'):\n",
    "        rowDatum = column.text.replace(',', '').replace('+', '').strip()\n",
    "        rowDatum = COVIDVU_COLUMNS.get(rowDatum, rowDatum)\n",
    "        row.append(rowDatum)\n",
    "        columnsCount += 1\n",
    "        if columnsCount == 5:\n",
    "            break\n",
    "\n",
    "    rows.append(row)\n",
    "\n",
    "rows = [row for row in rows if len(row)]"
   ]
  },
  {
   "cell_type": "code",
   "execution_count": null,
   "metadata": {},
   "outputs": [],
   "source": [
    "with open('../site-data/scraped-XX.tsv', 'w') as outputFile:\n",
    "    csv.writer(outputFile, delimiter = '\\t').writerows(rows)"
   ]
  },
  {
   "cell_type": "code",
   "execution_count": null,
   "metadata": {},
   "outputs": [],
   "source": []
  }
 ],
 "metadata": {
  "kernelspec": {
   "display_name": "Python 3",
   "language": "python",
   "name": "python3"
  },
  "language_info": {
   "codemirror_mode": {
    "name": "ipython",
    "version": 3
   },
   "file_extension": ".py",
   "mimetype": "text/x-python",
   "name": "python",
   "nbconvert_exporter": "python",
   "pygments_lexer": "ipython3",
   "version": "3.7.6"
  }
 },
 "nbformat": 4,
 "nbformat_minor": 4
}
