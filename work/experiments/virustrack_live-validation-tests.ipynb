{
 "cells": [
  {
   "cell_type": "markdown",
   "metadata": {},
   "source": [
    "# Experiments\n",
    "\n",
    "Scratch pad, edit this and change it as you see fit!"
   ]
  },
  {
   "cell_type": "markdown",
   "metadata": {},
   "source": [
    "---\n",
    "## TSV shape"
   ]
  },
  {
   "cell_type": "code",
   "execution_count": null,
   "metadata": {},
   "outputs": [],
   "source": [
    "from covidvu.vudpatch import _fetchCurrentUpdates\n",
    "from covidvu.vudpatch import SCRAPED_TODAY\n",
    "from covidvu.vudpatch import SCRAPED_WORLD_DATA\n",
    "\n",
    "import csv\n",
    "import os"
   ]
  },
  {
   "cell_type": "code",
   "execution_count": null,
   "metadata": {},
   "outputs": [],
   "source": [
    "    updatesDataset = dict()\n",
    "    index          = 'OTHER PLACES'\n",
    "    columnRef      = 'Cases'\n",
    "    \n",
    "    scrapedWorld = dict()\n",
    "    \n",
    "    with open('../site-data/scraped-world.tsv', 'r') as inputFile:\n",
    "        rawData = csv.DictReader(inputFile, delimiter = '\\t')\n",
    "        for row in rawData:\n",
    "            ref = row[index]\n",
    "            if 'Queue' == ref:\n",
    "                continue\n",
    "            if 'Diamond' not in row[index]:\n",
    "                try:\n",
    "                    bodyCount = float(row[columnRef]) if row[columnRef] != '' else 0.0\n",
    "                except:\n",
    "                    bodyCount = 0.0\n",
    "                updatesDataset[ref] = { SCRAPED_TODAY: float(bodyCount) }\n",
    "\n",
    "    if 'Queue' in updatesDataset:\n",
    "        del(updatesDataset['Queue'])\n",
    "\n",
    "updatesDataset"
   ]
  },
  {
   "cell_type": "markdown",
   "metadata": {},
   "source": [
    "---\n",
    "## Combine countries by continental region"
   ]
  },
  {
   "cell_type": "code",
   "execution_count": null,
   "metadata": {},
   "outputs": [],
   "source": [
    "import pandas as pd\n",
    "\n",
    "pd.read_tsv('./site-data/confirmed')"
   ]
  },
  {
   "cell_type": "markdown",
   "metadata": {},
   "source": [
    "---\n",
    "&#169; 2020 the COVICvu contributors.  All rights reserved."
   ]
  }
 ],
 "metadata": {
  "kernelspec": {
   "display_name": "Python 3",
   "language": "python",
   "name": "python3"
  },
  "language_info": {
   "codemirror_mode": {
    "name": "ipython",
    "version": 3
   },
   "file_extension": ".py",
   "mimetype": "text/x-python",
   "name": "python",
   "nbconvert_exporter": "python",
   "pygments_lexer": "ipython3",
   "version": "3.7.6"
  }
 },
 "nbformat": 4,
 "nbformat_minor": 4
}
