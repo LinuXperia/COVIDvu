{
 "cells": [
  {
   "cell_type": "markdown",
   "metadata": {},
   "source": [
    "# Neo country mappings\n",
    "\n",
    "Maps the legacy `vuregions.py` country:regions list to an aggregated object:\n",
    "\n",
    "```python\n",
    "{\n",
    "    'Country Name': {\n",
    "        'codeISO': 'XX',\n",
    "        'region': 'Whatever',\n",
    "    }\n",
    "}\n",
    "```"
   ]
  },
  {
   "cell_type": "markdown",
   "metadata": {},
   "source": [
    "---\n",
    "## Legacy definitions from vuregions prior to ticket #463"
   ]
  },
  {
   "cell_type": "code",
   "execution_count": null,
   "metadata": {},
   "outputs": [],
   "source": [
    "from covidvu.pipeline.vuregions import COUNTRIES_REGIONS"
   ]
  },
  {
   "cell_type": "markdown",
   "metadata": {},
   "source": [
    "---\n",
    "## Countries list\n",
    "\n",
    "Available from DataHub.io.  Downloaded to `../resources` for convenience.\n",
    "\n",
    "* [Comprehensive countries code list](https://datahub.io/core/country-codes)"
   ]
  },
  {
   "cell_type": "code",
   "execution_count": null,
   "metadata": {},
   "outputs": [],
   "source": [
    "import json"
   ]
  },
  {
   "cell_type": "code",
   "execution_count": null,
   "metadata": {},
   "outputs": [],
   "source": [
    "countriesList = json.loads(open('../resources/country-codes.json', 'r').read())"
   ]
  },
  {
   "cell_type": "code",
   "execution_count": null,
   "metadata": {},
   "outputs": [],
   "source": [
    "COUNTRIES_INFO = dict()"
   ]
  },
  {
   "cell_type": "code",
   "execution_count": null,
   "metadata": {},
   "outputs": [],
   "source": [
    "for countryCard in countriesList:\n",
    "    name = countryCard['CLDR display name']\n",
    "    COUNTRIES_INFO[name] = {\n",
    "        'capital': countryCard['Capital'],\n",
    "        'codeISO': countryCard['ISO3166-1-Alpha-2'],\n",
    "        'languages': countryCard['Languages'],\n",
    "    }"
   ]
  },
  {
   "cell_type": "markdown",
   "metadata": {},
   "source": [
    "---\n",
    "## Assign VirusTrack regions"
   ]
  },
  {
   "cell_type": "markdown",
   "metadata": {},
   "source": [
    "### Homologize country/regions to CSSE"
   ]
  },
  {
   "cell_type": "code",
   "execution_count": null,
   "metadata": {},
   "outputs": [],
   "source": [
    "ISO2CSSE = {\n",
    "    'Congo - Kinshasa': 'Congo (Kinshasa)',\n",
    "    'Congo - Brazzaville': 'Congo (Brazzaville)',\n",
    "    \"Côte d’Ivoire\": \"Cote d'Ivoire\",\n",
    "    'Taiwan': 'Taiwan*',\n",
    "    'Bosnia': 'Bosnia and Herzegovina',\n",
    "    'North Korea': 'Korea, North',\n",
    "    'South Korea': 'Korea, South',\n",
    "    'Macedonia': 'North Macedonia',\n",
    "    'UK': 'United Kingdom',\n",
    "}\n",
    "\n",
    "temp = dict()\n",
    "badNames = list()\n",
    "for name in ISO2CSSE.keys():\n",
    "    effectiveName = ISO2CSSE[name]\n",
    "    temp[effectiveName] = COUNTRIES_INFO[name]\n",
    "    badNames.append(name)"
   ]
  },
  {
   "cell_type": "code",
   "execution_count": null,
   "metadata": {},
   "outputs": [],
   "source": [
    "COUNTRIES_INFO.update(temp)\n",
    "for badName in badNames:\n",
    "    del(COUNTRIES_INFO[badName])"
   ]
  },
  {
   "cell_type": "markdown",
   "metadata": {},
   "source": [
    "### Merge into a single data object, COUNTRIES_INFO"
   ]
  },
  {
   "cell_type": "code",
   "execution_count": null,
   "metadata": {},
   "outputs": [],
   "source": [
    "badNames = list()\n",
    "for name in COUNTRIES_REGIONS.keys():\n",
    "    if name in COUNTRIES_INFO:\n",
    "        COUNTRIES_INFO[name]['region'] = COUNTRIES_REGIONS[name]\n",
    "    elif 'Region' not in name:\n",
    "        badNames.append(name)\n",
    "\n",
    "for name in badNames:\n",
    "    del(COUNTRIES_REGIONS[name])"
   ]
  },
  {
   "cell_type": "code",
   "execution_count": null,
   "metadata": {},
   "outputs": [],
   "source": [
    "badNames = list()\n",
    "names = COUNTRIES_REGIONS.keys()\n",
    "for name in COUNTRIES_INFO.keys():\n",
    "    if name not in names:\n",
    "        badNames.append(name)\n",
    "\n",
    "for name in badNames:\n",
    "    del(COUNTRIES_INFO[name])"
   ]
  },
  {
   "cell_type": "code",
   "execution_count": null,
   "metadata": {},
   "outputs": [],
   "source": [
    "COUNTRIES_INFO"
   ]
  },
  {
   "cell_type": "markdown",
   "metadata": {},
   "source": [
    "---\n",
    "## Countries by code"
   ]
  },
  {
   "cell_type": "code",
   "execution_count": null,
   "metadata": {},
   "outputs": [],
   "source": [
    "from covidvu.virustrack.countryinfo import COUNTRIES_INFO"
   ]
  },
  {
   "cell_type": "code",
   "execution_count": null,
   "metadata": {},
   "outputs": [],
   "source": [
    "CODES_COUNTRIES = dict([(item[1]['codeISO'], item[0]) for item in COUNTRIES_INFO.items()])"
   ]
  },
  {
   "cell_type": "code",
   "execution_count": null,
   "metadata": {},
   "outputs": [],
   "source": [
    "CODES_COUNTRIES"
   ]
  }
 ],
 "metadata": {
  "kernelspec": {
   "display_name": "Python 3",
   "language": "python",
   "name": "python3"
  },
  "language_info": {
   "codemirror_mode": {
    "name": "ipython",
    "version": 3
   },
   "file_extension": ".py",
   "mimetype": "text/x-python",
   "name": "python",
   "nbconvert_exporter": "python",
   "pygments_lexer": "ipython3",
   "version": "3.7.6"
  }
 },
 "nbformat": 4,
 "nbformat_minor": 4
}
