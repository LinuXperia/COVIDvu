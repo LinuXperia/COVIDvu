{
 "cells": [
  {
   "cell_type": "markdown",
   "metadata": {},
   "source": [
    "# COVIDvu <img src='resources/UN-flag.png' align='right'>\n",
    "\n",
    "COVID-19 model for predicting the spread of coronavirus through populations.\n",
    "\n",
    "---"
   ]
  },
  {
   "cell_type": "markdown",
   "metadata": {},
   "source": [
    "# Background\n",
    "\n",
    "In `covidvu.predict` we apply the [logistic equation](https://en.wikipedia.org/wiki/Logistic_function) to model the spread of COVID-19 cases in a given population. Briefly, the logistic equation may be used to describe the dynamics of a species (coronavirus) which is under the influence of two competing effects: population expansion through pure birth, and competition for resources causing over-crowding. We represent these dynamics mathematically with the following differential equation:\n",
    "\n",
    "$$\\frac{\\mathrm{d}X}{\\mathrm{d}t} = r X \\left(1 - \\frac{X}{K} \\right)$$\n",
    "\n",
    "where\n",
    "- $t=$ time\n",
    "- $X=$ population size, analogous to the total number of infected individuals\n",
    "- $r=$ growth rate, which is the rate at which the virus spread if left unimpeded in an infinite-sized population\n",
    "- $K=$ carrying capacity, which is the total number of infected individuals as $t \\rightarrow \\infty$ in a finite-sized population given constraints such as hand washing, social isolation, health-care effectiveness etc.\n",
    "\n",
    "# Data cleaning\n",
    "\n",
    "We have found that the dynamics of the spread of COVID-19 tends to follow logistic growth once the total number of cases has become more than just a handful. We therefore neglect data where the total number of cases $X \\leq 50$, and require at least 10 days of data for this condition to be true before attempting to train a model for a particular region.\n",
    "\n",
    "# Mathematical model\n",
    "\n",
    "The general solution to the differential equation above is\n",
    "\n",
    "$$X(t) = \\frac{K}{1+\\left(\\frac{K-X_0}{X_0}\\right)e^{-r t}}$$\n",
    "\n",
    "where $X_0$ is the initial infected population size. Assuming $K \\gg X_0$, we re-cast this equation in the form\n",
    "\n",
    "$$X(t) = \\frac{L}{1+e^{-k(t-t_0)}}$$\n",
    "\n",
    "where $K=L$, $r=k$, and $t_0=1/r \\ln(K)$.\n",
    "\n",
    "\n",
    "\n",
    "Let $\\hat{X}(t)$ be a time series corresponding to measurements of $X(t)$. We take a log transformation of $X(t)$ for numerical stability, $Y(t) = \\ln(X(t)+1)$. Allowing $\\theta$ to denote the parameter vector $\\theta=(L, k, t_0)$, and $Y_\\theta(t)$ the corresponding parametrised curve, we assume that $\\hat{Y}(t)$ obeys the following likelihood\n",
    "\n",
    "$$P(\\hat{Y}(t)|\\theta) = \\prod_t \\mathcal{N}(Y_\\theta(t), \\sigma^2)$$\n",
    "\n",
    "where $\\mathcal{N}(\\mu, \\sigma^2)$ is a normal distribution with mean $\\mu$ and variance $\\sigma^2$. In other words, we assume that the mean number of cases follows the logistic equation, with Normally-distributed noise in log space. $Y_\\theta(t)$ denotes that $Y(t)$ is parametrized by $\\theta$. Defining the error model in log space has the advantage of naturally allowing the size of measurement error to grow in proportion to the mean number of cases, as well as potentially allowing for greater numerical stability for Markov chain Monte Carlo-based inference.\n",
    "\n",
    "We perform Bayesian inference using a No-U-Turn Sampler (NUTS; Hoffman, 2014) as implemented in [PyStan](https://pystan.readthedocs.io/en/latest/) using the following broad, weakly-informative, model priors:\n",
    "\n",
    "$$P(\\log_{10}{K}) = \\mathrm{Unif}(0, 10)$$\n",
    "\n",
    "$$P(t_0) = \\mathrm{HalfNormal}(0, 10^6)$$\n",
    "\n",
    "$$P(k) = \\mathcal{N}(0.5, 0.25)$$\n",
    "\n",
    "$$P(\\sigma) = \\mathrm{HalfNormal}(0, 100)$$\n",
    "\n",
    "where $\\mathrm{Unif}(a,b)$ is a uniform distribution between $a$ and $b$, and $\\mathrm{HalfNormal}(\\mu, \\sigma^2)$ is a normal distribution with mean $\\mu$ and variance $\\sigma^2$, which has been truncated at zero, retaining only positive values.\n",
    "\n",
    "\n",
    "# Outputs from MCMC\n",
    "\n",
    "We return approximate central Bayesian confidence intervals and the posterior mean for $X(t)$ in `covidvu.predict.predictLogisticGrowth`. One may interpret the e.g. 95% confidence interval with the following statement:\n",
    "\n",
    "\"Assuming that the above model is the true model describing the dynamics of the spread of COVID-19 through a particular population, and given our model priors, we may say with *approximately* 95% confidence that the true value of $X(t)$ will lie within the confidence bounds\".\n",
    "\n",
    "We use the word \"approximate\" because Hamiltonian Monte Carlo will only guarantee that the numerically-generated samples from the posterior are true samples in the limit of an infinitely long chain. One may make the approximations more accurate by increasing `nSamples` in `covidvu.predict.predictLogisticGrowth`, and to a lesser extent, `nTune` and `nChains`.\n",
    "\n",
    "We also return the posterior mean, which is a good point-estimate for the dynamics of COVID-19 given our uncertainty in model parameters, given the observed data."
   ]
  },
  {
   "cell_type": "markdown",
   "metadata": {},
   "source": [
    "---\n",
    "&#169; the COVIDvu Contributors.  All rights reserved."
   ]
  }
 ],
 "metadata": {
  "kernelspec": {
   "display_name": "Python 3",
   "language": "python",
   "name": "python3"
  },
  "language_info": {
   "codemirror_mode": {
    "name": "ipython",
    "version": 3
   },
   "file_extension": ".py",
   "mimetype": "text/x-python",
   "name": "python",
   "nbconvert_exporter": "python",
   "pygments_lexer": "ipython3",
   "version": "3.8.1"
  }
 },
 "nbformat": 4,
 "nbformat_minor": 4
}
